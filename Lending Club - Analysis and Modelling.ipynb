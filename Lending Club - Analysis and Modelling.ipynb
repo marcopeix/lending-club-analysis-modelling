{
 "cells": [
  {
   "cell_type": "markdown",
   "metadata": {},
   "source": [
    "# Lending Club - Analysis and Modelling"
   ]
  },
  {
   "cell_type": "markdown",
   "metadata": {},
   "source": [
    "The objective of this project is to prepare a model that can accurately predict if a loan will default or not.\n",
    "\n",
    "The dataset is from the Lending Club, a peer-to-peer lending company based in the United States. Investors can fund potential borrowers and and earn a profit depending on the risk they take. The risk is assessed with the borrower's credit score. "
   ]
  },
  {
   "cell_type": "markdown",
   "metadata": {},
   "source": [
    "## Import libraries and data"
   ]
  },
  {
   "cell_type": "code",
   "execution_count": 1,
   "metadata": {},
   "outputs": [],
   "source": [
    "import pandas as pd\n",
    "import numpy as np\n",
    "import matplotlib.pyplot as plt\n",
    "import seaborn as sns\n",
    "sns.set_style('whitegrid')\n",
    "import warnings\n",
    "import gc\n",
    "\n",
    "warnings.simplefilter(action='ignore', category=FutureWarning)\n",
    "warnings.simplefilter(action='ignore', category=DeprecationWarning)\n",
    "\n",
    "%matplotlib inline"
   ]
  },
  {
   "cell_type": "code",
   "execution_count": 2,
   "metadata": {},
   "outputs": [],
   "source": [
    "og_df = pd.read_csv('loan.csv', low_memory=False)"
   ]
  },
  {
   "cell_type": "markdown",
   "metadata": {},
   "source": [
    "It is better practice to work on a copy of the dataset, so the dataset does not have to be re-read again, thus saving memory."
   ]
  },
  {
   "cell_type": "code",
   "execution_count": 3,
   "metadata": {},
   "outputs": [
    {
     "data": {
      "text/html": [
       "<div>\n",
       "<style scoped>\n",
       "    .dataframe tbody tr th:only-of-type {\n",
       "        vertical-align: middle;\n",
       "    }\n",
       "\n",
       "    .dataframe tbody tr th {\n",
       "        vertical-align: top;\n",
       "    }\n",
       "\n",
       "    .dataframe thead th {\n",
       "        text-align: right;\n",
       "    }\n",
       "</style>\n",
       "<table border=\"1\" class=\"dataframe\">\n",
       "  <thead>\n",
       "    <tr style=\"text-align: right;\">\n",
       "      <th></th>\n",
       "      <th>id</th>\n",
       "      <th>member_id</th>\n",
       "      <th>loan_amnt</th>\n",
       "      <th>funded_amnt</th>\n",
       "      <th>funded_amnt_inv</th>\n",
       "      <th>term</th>\n",
       "      <th>int_rate</th>\n",
       "      <th>installment</th>\n",
       "      <th>grade</th>\n",
       "      <th>sub_grade</th>\n",
       "      <th>...</th>\n",
       "      <th>total_bal_il</th>\n",
       "      <th>il_util</th>\n",
       "      <th>open_rv_12m</th>\n",
       "      <th>open_rv_24m</th>\n",
       "      <th>max_bal_bc</th>\n",
       "      <th>all_util</th>\n",
       "      <th>total_rev_hi_lim</th>\n",
       "      <th>inq_fi</th>\n",
       "      <th>total_cu_tl</th>\n",
       "      <th>inq_last_12m</th>\n",
       "    </tr>\n",
       "  </thead>\n",
       "  <tbody>\n",
       "    <tr>\n",
       "      <th>0</th>\n",
       "      <td>1077501</td>\n",
       "      <td>1296599</td>\n",
       "      <td>5000.0</td>\n",
       "      <td>5000.0</td>\n",
       "      <td>4975.0</td>\n",
       "      <td>36 months</td>\n",
       "      <td>10.65</td>\n",
       "      <td>162.87</td>\n",
       "      <td>B</td>\n",
       "      <td>B2</td>\n",
       "      <td>...</td>\n",
       "      <td>NaN</td>\n",
       "      <td>NaN</td>\n",
       "      <td>NaN</td>\n",
       "      <td>NaN</td>\n",
       "      <td>NaN</td>\n",
       "      <td>NaN</td>\n",
       "      <td>NaN</td>\n",
       "      <td>NaN</td>\n",
       "      <td>NaN</td>\n",
       "      <td>NaN</td>\n",
       "    </tr>\n",
       "    <tr>\n",
       "      <th>1</th>\n",
       "      <td>1077430</td>\n",
       "      <td>1314167</td>\n",
       "      <td>2500.0</td>\n",
       "      <td>2500.0</td>\n",
       "      <td>2500.0</td>\n",
       "      <td>60 months</td>\n",
       "      <td>15.27</td>\n",
       "      <td>59.83</td>\n",
       "      <td>C</td>\n",
       "      <td>C4</td>\n",
       "      <td>...</td>\n",
       "      <td>NaN</td>\n",
       "      <td>NaN</td>\n",
       "      <td>NaN</td>\n",
       "      <td>NaN</td>\n",
       "      <td>NaN</td>\n",
       "      <td>NaN</td>\n",
       "      <td>NaN</td>\n",
       "      <td>NaN</td>\n",
       "      <td>NaN</td>\n",
       "      <td>NaN</td>\n",
       "    </tr>\n",
       "    <tr>\n",
       "      <th>2</th>\n",
       "      <td>1077175</td>\n",
       "      <td>1313524</td>\n",
       "      <td>2400.0</td>\n",
       "      <td>2400.0</td>\n",
       "      <td>2400.0</td>\n",
       "      <td>36 months</td>\n",
       "      <td>15.96</td>\n",
       "      <td>84.33</td>\n",
       "      <td>C</td>\n",
       "      <td>C5</td>\n",
       "      <td>...</td>\n",
       "      <td>NaN</td>\n",
       "      <td>NaN</td>\n",
       "      <td>NaN</td>\n",
       "      <td>NaN</td>\n",
       "      <td>NaN</td>\n",
       "      <td>NaN</td>\n",
       "      <td>NaN</td>\n",
       "      <td>NaN</td>\n",
       "      <td>NaN</td>\n",
       "      <td>NaN</td>\n",
       "    </tr>\n",
       "    <tr>\n",
       "      <th>3</th>\n",
       "      <td>1076863</td>\n",
       "      <td>1277178</td>\n",
       "      <td>10000.0</td>\n",
       "      <td>10000.0</td>\n",
       "      <td>10000.0</td>\n",
       "      <td>36 months</td>\n",
       "      <td>13.49</td>\n",
       "      <td>339.31</td>\n",
       "      <td>C</td>\n",
       "      <td>C1</td>\n",
       "      <td>...</td>\n",
       "      <td>NaN</td>\n",
       "      <td>NaN</td>\n",
       "      <td>NaN</td>\n",
       "      <td>NaN</td>\n",
       "      <td>NaN</td>\n",
       "      <td>NaN</td>\n",
       "      <td>NaN</td>\n",
       "      <td>NaN</td>\n",
       "      <td>NaN</td>\n",
       "      <td>NaN</td>\n",
       "    </tr>\n",
       "    <tr>\n",
       "      <th>4</th>\n",
       "      <td>1075358</td>\n",
       "      <td>1311748</td>\n",
       "      <td>3000.0</td>\n",
       "      <td>3000.0</td>\n",
       "      <td>3000.0</td>\n",
       "      <td>60 months</td>\n",
       "      <td>12.69</td>\n",
       "      <td>67.79</td>\n",
       "      <td>B</td>\n",
       "      <td>B5</td>\n",
       "      <td>...</td>\n",
       "      <td>NaN</td>\n",
       "      <td>NaN</td>\n",
       "      <td>NaN</td>\n",
       "      <td>NaN</td>\n",
       "      <td>NaN</td>\n",
       "      <td>NaN</td>\n",
       "      <td>NaN</td>\n",
       "      <td>NaN</td>\n",
       "      <td>NaN</td>\n",
       "      <td>NaN</td>\n",
       "    </tr>\n",
       "  </tbody>\n",
       "</table>\n",
       "<p>5 rows × 74 columns</p>\n",
       "</div>"
      ],
      "text/plain": [
       "        id  member_id  loan_amnt  funded_amnt  funded_amnt_inv        term  \\\n",
       "0  1077501    1296599     5000.0       5000.0           4975.0   36 months   \n",
       "1  1077430    1314167     2500.0       2500.0           2500.0   60 months   \n",
       "2  1077175    1313524     2400.0       2400.0           2400.0   36 months   \n",
       "3  1076863    1277178    10000.0      10000.0          10000.0   36 months   \n",
       "4  1075358    1311748     3000.0       3000.0           3000.0   60 months   \n",
       "\n",
       "   int_rate  installment grade sub_grade     ...      total_bal_il il_util  \\\n",
       "0     10.65       162.87     B        B2     ...               NaN     NaN   \n",
       "1     15.27        59.83     C        C4     ...               NaN     NaN   \n",
       "2     15.96        84.33     C        C5     ...               NaN     NaN   \n",
       "3     13.49       339.31     C        C1     ...               NaN     NaN   \n",
       "4     12.69        67.79     B        B5     ...               NaN     NaN   \n",
       "\n",
       "  open_rv_12m  open_rv_24m max_bal_bc all_util total_rev_hi_lim inq_fi  \\\n",
       "0         NaN          NaN        NaN      NaN              NaN    NaN   \n",
       "1         NaN          NaN        NaN      NaN              NaN    NaN   \n",
       "2         NaN          NaN        NaN      NaN              NaN    NaN   \n",
       "3         NaN          NaN        NaN      NaN              NaN    NaN   \n",
       "4         NaN          NaN        NaN      NaN              NaN    NaN   \n",
       "\n",
       "  total_cu_tl inq_last_12m  \n",
       "0         NaN          NaN  \n",
       "1         NaN          NaN  \n",
       "2         NaN          NaN  \n",
       "3         NaN          NaN  \n",
       "4         NaN          NaN  \n",
       "\n",
       "[5 rows x 74 columns]"
      ]
     },
     "execution_count": 3,
     "metadata": {},
     "output_type": "execute_result"
    }
   ],
   "source": [
    "df = og_df.copy(deep=True)\n",
    "df.head()"
   ]
  },
  {
   "cell_type": "markdown",
   "metadata": {},
   "source": [
    "**Print the shape of the dataset**"
   ]
  },
  {
   "cell_type": "code",
   "execution_count": 4,
   "metadata": {},
   "outputs": [
    {
     "data": {
      "text/plain": [
       "(887379, 74)"
      ]
     },
     "execution_count": 4,
     "metadata": {},
     "output_type": "execute_result"
    }
   ],
   "source": [
    "df.shape"
   ]
  },
  {
   "cell_type": "markdown",
   "metadata": {},
   "source": [
    "**Print the column names**"
   ]
  },
  {
   "cell_type": "code",
   "execution_count": 5,
   "metadata": {},
   "outputs": [
    {
     "data": {
      "text/plain": [
       "Index(['id', 'member_id', 'loan_amnt', 'funded_amnt', 'funded_amnt_inv',\n",
       "       'term', 'int_rate', 'installment', 'grade', 'sub_grade', 'emp_title',\n",
       "       'emp_length', 'home_ownership', 'annual_inc', 'verification_status',\n",
       "       'issue_d', 'loan_status', 'pymnt_plan', 'url', 'desc', 'purpose',\n",
       "       'title', 'zip_code', 'addr_state', 'dti', 'delinq_2yrs',\n",
       "       'earliest_cr_line', 'inq_last_6mths', 'mths_since_last_delinq',\n",
       "       'mths_since_last_record', 'open_acc', 'pub_rec', 'revol_bal',\n",
       "       'revol_util', 'total_acc', 'initial_list_status', 'out_prncp',\n",
       "       'out_prncp_inv', 'total_pymnt', 'total_pymnt_inv', 'total_rec_prncp',\n",
       "       'total_rec_int', 'total_rec_late_fee', 'recoveries',\n",
       "       'collection_recovery_fee', 'last_pymnt_d', 'last_pymnt_amnt',\n",
       "       'next_pymnt_d', 'last_credit_pull_d', 'collections_12_mths_ex_med',\n",
       "       'mths_since_last_major_derog', 'policy_code', 'application_type',\n",
       "       'annual_inc_joint', 'dti_joint', 'verification_status_joint',\n",
       "       'acc_now_delinq', 'tot_coll_amt', 'tot_cur_bal', 'open_acc_6m',\n",
       "       'open_il_6m', 'open_il_12m', 'open_il_24m', 'mths_since_rcnt_il',\n",
       "       'total_bal_il', 'il_util', 'open_rv_12m', 'open_rv_24m', 'max_bal_bc',\n",
       "       'all_util', 'total_rev_hi_lim', 'inq_fi', 'total_cu_tl',\n",
       "       'inq_last_12m'],\n",
       "      dtype='object')"
      ]
     },
     "execution_count": 5,
     "metadata": {},
     "output_type": "execute_result"
    }
   ],
   "source": [
    "df.columns"
   ]
  },
  {
   "cell_type": "markdown",
   "metadata": {},
   "source": [
    "## Understand the data"
   ]
  },
  {
   "cell_type": "code",
   "execution_count": 6,
   "metadata": {},
   "outputs": [
    {
     "data": {
      "text/html": [
       "<style  type=\"text/css\" >\n",
       "    #T_9cc097b8_e5c0_11e8_93d7_1002b5253397row0_col1 {\n",
       "            width:  1000px;\n",
       "        }    #T_9cc097b8_e5c0_11e8_93d7_1002b5253397row1_col1 {\n",
       "            width:  1000px;\n",
       "        }    #T_9cc097b8_e5c0_11e8_93d7_1002b5253397row2_col1 {\n",
       "            width:  1000px;\n",
       "        }    #T_9cc097b8_e5c0_11e8_93d7_1002b5253397row3_col1 {\n",
       "            width:  1000px;\n",
       "        }    #T_9cc097b8_e5c0_11e8_93d7_1002b5253397row4_col1 {\n",
       "            width:  1000px;\n",
       "        }    #T_9cc097b8_e5c0_11e8_93d7_1002b5253397row5_col1 {\n",
       "            width:  1000px;\n",
       "        }    #T_9cc097b8_e5c0_11e8_93d7_1002b5253397row6_col1 {\n",
       "            width:  1000px;\n",
       "        }    #T_9cc097b8_e5c0_11e8_93d7_1002b5253397row7_col1 {\n",
       "            width:  1000px;\n",
       "        }    #T_9cc097b8_e5c0_11e8_93d7_1002b5253397row8_col1 {\n",
       "            width:  1000px;\n",
       "        }    #T_9cc097b8_e5c0_11e8_93d7_1002b5253397row9_col1 {\n",
       "            width:  1000px;\n",
       "        }    #T_9cc097b8_e5c0_11e8_93d7_1002b5253397row10_col1 {\n",
       "            width:  1000px;\n",
       "        }    #T_9cc097b8_e5c0_11e8_93d7_1002b5253397row11_col1 {\n",
       "            width:  1000px;\n",
       "        }    #T_9cc097b8_e5c0_11e8_93d7_1002b5253397row12_col1 {\n",
       "            width:  1000px;\n",
       "        }    #T_9cc097b8_e5c0_11e8_93d7_1002b5253397row13_col1 {\n",
       "            width:  1000px;\n",
       "        }    #T_9cc097b8_e5c0_11e8_93d7_1002b5253397row14_col1 {\n",
       "            width:  1000px;\n",
       "        }    #T_9cc097b8_e5c0_11e8_93d7_1002b5253397row15_col1 {\n",
       "            width:  1000px;\n",
       "        }    #T_9cc097b8_e5c0_11e8_93d7_1002b5253397row16_col1 {\n",
       "            width:  1000px;\n",
       "        }    #T_9cc097b8_e5c0_11e8_93d7_1002b5253397row17_col1 {\n",
       "            width:  1000px;\n",
       "        }    #T_9cc097b8_e5c0_11e8_93d7_1002b5253397row18_col1 {\n",
       "            width:  1000px;\n",
       "        }    #T_9cc097b8_e5c0_11e8_93d7_1002b5253397row19_col1 {\n",
       "            width:  1000px;\n",
       "        }    #T_9cc097b8_e5c0_11e8_93d7_1002b5253397row20_col1 {\n",
       "            width:  1000px;\n",
       "        }    #T_9cc097b8_e5c0_11e8_93d7_1002b5253397row21_col1 {\n",
       "            width:  1000px;\n",
       "        }    #T_9cc097b8_e5c0_11e8_93d7_1002b5253397row22_col1 {\n",
       "            width:  1000px;\n",
       "        }    #T_9cc097b8_e5c0_11e8_93d7_1002b5253397row23_col1 {\n",
       "            width:  1000px;\n",
       "        }    #T_9cc097b8_e5c0_11e8_93d7_1002b5253397row24_col1 {\n",
       "            width:  1000px;\n",
       "        }    #T_9cc097b8_e5c0_11e8_93d7_1002b5253397row25_col1 {\n",
       "            width:  1000px;\n",
       "        }    #T_9cc097b8_e5c0_11e8_93d7_1002b5253397row26_col1 {\n",
       "            width:  1000px;\n",
       "        }    #T_9cc097b8_e5c0_11e8_93d7_1002b5253397row27_col1 {\n",
       "            width:  1000px;\n",
       "        }    #T_9cc097b8_e5c0_11e8_93d7_1002b5253397row28_col1 {\n",
       "            width:  1000px;\n",
       "        }    #T_9cc097b8_e5c0_11e8_93d7_1002b5253397row29_col1 {\n",
       "            width:  1000px;\n",
       "        }    #T_9cc097b8_e5c0_11e8_93d7_1002b5253397row30_col1 {\n",
       "            width:  1000px;\n",
       "        }    #T_9cc097b8_e5c0_11e8_93d7_1002b5253397row31_col1 {\n",
       "            width:  1000px;\n",
       "        }    #T_9cc097b8_e5c0_11e8_93d7_1002b5253397row32_col1 {\n",
       "            width:  1000px;\n",
       "        }    #T_9cc097b8_e5c0_11e8_93d7_1002b5253397row33_col1 {\n",
       "            width:  1000px;\n",
       "        }    #T_9cc097b8_e5c0_11e8_93d7_1002b5253397row34_col1 {\n",
       "            width:  1000px;\n",
       "        }    #T_9cc097b8_e5c0_11e8_93d7_1002b5253397row35_col1 {\n",
       "            width:  1000px;\n",
       "        }    #T_9cc097b8_e5c0_11e8_93d7_1002b5253397row36_col1 {\n",
       "            width:  1000px;\n",
       "        }    #T_9cc097b8_e5c0_11e8_93d7_1002b5253397row37_col1 {\n",
       "            width:  1000px;\n",
       "        }    #T_9cc097b8_e5c0_11e8_93d7_1002b5253397row38_col1 {\n",
       "            width:  1000px;\n",
       "        }    #T_9cc097b8_e5c0_11e8_93d7_1002b5253397row39_col1 {\n",
       "            width:  1000px;\n",
       "        }    #T_9cc097b8_e5c0_11e8_93d7_1002b5253397row40_col1 {\n",
       "            width:  1000px;\n",
       "        }    #T_9cc097b8_e5c0_11e8_93d7_1002b5253397row41_col1 {\n",
       "            width:  1000px;\n",
       "        }    #T_9cc097b8_e5c0_11e8_93d7_1002b5253397row42_col1 {\n",
       "            width:  1000px;\n",
       "        }    #T_9cc097b8_e5c0_11e8_93d7_1002b5253397row43_col1 {\n",
       "            width:  1000px;\n",
       "        }    #T_9cc097b8_e5c0_11e8_93d7_1002b5253397row44_col1 {\n",
       "            width:  1000px;\n",
       "        }    #T_9cc097b8_e5c0_11e8_93d7_1002b5253397row45_col1 {\n",
       "            width:  1000px;\n",
       "        }    #T_9cc097b8_e5c0_11e8_93d7_1002b5253397row46_col1 {\n",
       "            width:  1000px;\n",
       "        }    #T_9cc097b8_e5c0_11e8_93d7_1002b5253397row47_col1 {\n",
       "            width:  1000px;\n",
       "        }    #T_9cc097b8_e5c0_11e8_93d7_1002b5253397row48_col1 {\n",
       "            width:  1000px;\n",
       "        }    #T_9cc097b8_e5c0_11e8_93d7_1002b5253397row49_col1 {\n",
       "            width:  1000px;\n",
       "        }    #T_9cc097b8_e5c0_11e8_93d7_1002b5253397row50_col1 {\n",
       "            width:  1000px;\n",
       "        }    #T_9cc097b8_e5c0_11e8_93d7_1002b5253397row51_col1 {\n",
       "            width:  1000px;\n",
       "        }    #T_9cc097b8_e5c0_11e8_93d7_1002b5253397row52_col1 {\n",
       "            width:  1000px;\n",
       "        }    #T_9cc097b8_e5c0_11e8_93d7_1002b5253397row53_col1 {\n",
       "            width:  1000px;\n",
       "        }    #T_9cc097b8_e5c0_11e8_93d7_1002b5253397row54_col1 {\n",
       "            width:  1000px;\n",
       "        }    #T_9cc097b8_e5c0_11e8_93d7_1002b5253397row55_col1 {\n",
       "            width:  1000px;\n",
       "        }    #T_9cc097b8_e5c0_11e8_93d7_1002b5253397row56_col1 {\n",
       "            width:  1000px;\n",
       "        }    #T_9cc097b8_e5c0_11e8_93d7_1002b5253397row57_col1 {\n",
       "            width:  1000px;\n",
       "        }    #T_9cc097b8_e5c0_11e8_93d7_1002b5253397row58_col1 {\n",
       "            width:  1000px;\n",
       "        }    #T_9cc097b8_e5c0_11e8_93d7_1002b5253397row59_col1 {\n",
       "            width:  1000px;\n",
       "        }    #T_9cc097b8_e5c0_11e8_93d7_1002b5253397row60_col1 {\n",
       "            width:  1000px;\n",
       "        }    #T_9cc097b8_e5c0_11e8_93d7_1002b5253397row61_col1 {\n",
       "            width:  1000px;\n",
       "        }    #T_9cc097b8_e5c0_11e8_93d7_1002b5253397row62_col1 {\n",
       "            width:  1000px;\n",
       "        }    #T_9cc097b8_e5c0_11e8_93d7_1002b5253397row63_col1 {\n",
       "            width:  1000px;\n",
       "        }    #T_9cc097b8_e5c0_11e8_93d7_1002b5253397row64_col1 {\n",
       "            width:  1000px;\n",
       "        }    #T_9cc097b8_e5c0_11e8_93d7_1002b5253397row65_col1 {\n",
       "            width:  1000px;\n",
       "        }    #T_9cc097b8_e5c0_11e8_93d7_1002b5253397row66_col1 {\n",
       "            width:  1000px;\n",
       "        }    #T_9cc097b8_e5c0_11e8_93d7_1002b5253397row67_col1 {\n",
       "            width:  1000px;\n",
       "        }    #T_9cc097b8_e5c0_11e8_93d7_1002b5253397row68_col1 {\n",
       "            width:  1000px;\n",
       "        }    #T_9cc097b8_e5c0_11e8_93d7_1002b5253397row69_col1 {\n",
       "            width:  1000px;\n",
       "        }    #T_9cc097b8_e5c0_11e8_93d7_1002b5253397row70_col1 {\n",
       "            width:  1000px;\n",
       "        }    #T_9cc097b8_e5c0_11e8_93d7_1002b5253397row71_col1 {\n",
       "            width:  1000px;\n",
       "        }    #T_9cc097b8_e5c0_11e8_93d7_1002b5253397row72_col1 {\n",
       "            width:  1000px;\n",
       "        }    #T_9cc097b8_e5c0_11e8_93d7_1002b5253397row73_col1 {\n",
       "            width:  1000px;\n",
       "        }    #T_9cc097b8_e5c0_11e8_93d7_1002b5253397row74_col1 {\n",
       "            width:  1000px;\n",
       "        }    #T_9cc097b8_e5c0_11e8_93d7_1002b5253397row75_col1 {\n",
       "            width:  1000px;\n",
       "        }    #T_9cc097b8_e5c0_11e8_93d7_1002b5253397row76_col1 {\n",
       "            width:  1000px;\n",
       "        }    #T_9cc097b8_e5c0_11e8_93d7_1002b5253397row77_col1 {\n",
       "            width:  1000px;\n",
       "        }</style>  \n",
       "<table id=\"T_9cc097b8_e5c0_11e8_93d7_1002b5253397\" > \n",
       "<thead>    <tr> \n",
       "        <th class=\"blank level0\" ></th> \n",
       "        <th class=\"col_heading level0 col0\" >LoanStatNew</th> \n",
       "        <th class=\"col_heading level0 col1\" >Description</th> \n",
       "    </tr></thead> \n",
       "<tbody>    <tr> \n",
       "        <th id=\"T_9cc097b8_e5c0_11e8_93d7_1002b5253397level0_row0\" class=\"row_heading level0 row0\" >0</th> \n",
       "        <td id=\"T_9cc097b8_e5c0_11e8_93d7_1002b5253397row0_col0\" class=\"data row0 col0\" >addr_state</td> \n",
       "        <td id=\"T_9cc097b8_e5c0_11e8_93d7_1002b5253397row0_col1\" class=\"data row0 col1\" >The state provided by the borrower in the loan application</td> \n",
       "    </tr>    <tr> \n",
       "        <th id=\"T_9cc097b8_e5c0_11e8_93d7_1002b5253397level0_row1\" class=\"row_heading level0 row1\" >1</th> \n",
       "        <td id=\"T_9cc097b8_e5c0_11e8_93d7_1002b5253397row1_col0\" class=\"data row1 col0\" >annual_inc</td> \n",
       "        <td id=\"T_9cc097b8_e5c0_11e8_93d7_1002b5253397row1_col1\" class=\"data row1 col1\" >The self-reported annual income provided by the borrower during registration.</td> \n",
       "    </tr>    <tr> \n",
       "        <th id=\"T_9cc097b8_e5c0_11e8_93d7_1002b5253397level0_row2\" class=\"row_heading level0 row2\" >2</th> \n",
       "        <td id=\"T_9cc097b8_e5c0_11e8_93d7_1002b5253397row2_col0\" class=\"data row2 col0\" >annual_inc_joint</td> \n",
       "        <td id=\"T_9cc097b8_e5c0_11e8_93d7_1002b5253397row2_col1\" class=\"data row2 col1\" >The combined self-reported annual income provided by the co-borrowers during registration</td> \n",
       "    </tr>    <tr> \n",
       "        <th id=\"T_9cc097b8_e5c0_11e8_93d7_1002b5253397level0_row3\" class=\"row_heading level0 row3\" >3</th> \n",
       "        <td id=\"T_9cc097b8_e5c0_11e8_93d7_1002b5253397row3_col0\" class=\"data row3 col0\" >application_type</td> \n",
       "        <td id=\"T_9cc097b8_e5c0_11e8_93d7_1002b5253397row3_col1\" class=\"data row3 col1\" >Indicates whether the loan is an individual application or a joint application with two co-borrowers</td> \n",
       "    </tr>    <tr> \n",
       "        <th id=\"T_9cc097b8_e5c0_11e8_93d7_1002b5253397level0_row4\" class=\"row_heading level0 row4\" >4</th> \n",
       "        <td id=\"T_9cc097b8_e5c0_11e8_93d7_1002b5253397row4_col0\" class=\"data row4 col0\" >collection_recovery_fee</td> \n",
       "        <td id=\"T_9cc097b8_e5c0_11e8_93d7_1002b5253397row4_col1\" class=\"data row4 col1\" >post charge off collection fee</td> \n",
       "    </tr>    <tr> \n",
       "        <th id=\"T_9cc097b8_e5c0_11e8_93d7_1002b5253397level0_row5\" class=\"row_heading level0 row5\" >5</th> \n",
       "        <td id=\"T_9cc097b8_e5c0_11e8_93d7_1002b5253397row5_col0\" class=\"data row5 col0\" >collections_12_mths_ex_med</td> \n",
       "        <td id=\"T_9cc097b8_e5c0_11e8_93d7_1002b5253397row5_col1\" class=\"data row5 col1\" >Number of collections in 12 months excluding medical collections</td> \n",
       "    </tr>    <tr> \n",
       "        <th id=\"T_9cc097b8_e5c0_11e8_93d7_1002b5253397level0_row6\" class=\"row_heading level0 row6\" >6</th> \n",
       "        <td id=\"T_9cc097b8_e5c0_11e8_93d7_1002b5253397row6_col0\" class=\"data row6 col0\" >delinq_2yrs</td> \n",
       "        <td id=\"T_9cc097b8_e5c0_11e8_93d7_1002b5253397row6_col1\" class=\"data row6 col1\" >The number of 30+ days past-due incidences of delinquency in the borrower's credit file for the past 2 years</td> \n",
       "    </tr>    <tr> \n",
       "        <th id=\"T_9cc097b8_e5c0_11e8_93d7_1002b5253397level0_row7\" class=\"row_heading level0 row7\" >7</th> \n",
       "        <td id=\"T_9cc097b8_e5c0_11e8_93d7_1002b5253397row7_col0\" class=\"data row7 col0\" >desc</td> \n",
       "        <td id=\"T_9cc097b8_e5c0_11e8_93d7_1002b5253397row7_col1\" class=\"data row7 col1\" >Loan description provided by the borrower</td> \n",
       "    </tr>    <tr> \n",
       "        <th id=\"T_9cc097b8_e5c0_11e8_93d7_1002b5253397level0_row8\" class=\"row_heading level0 row8\" >8</th> \n",
       "        <td id=\"T_9cc097b8_e5c0_11e8_93d7_1002b5253397row8_col0\" class=\"data row8 col0\" >dti</td> \n",
       "        <td id=\"T_9cc097b8_e5c0_11e8_93d7_1002b5253397row8_col1\" class=\"data row8 col1\" >A ratio calculated using the borrower’s total monthly debt payments on the total debt obligations, excluding mortgage and the requested LC loan, divided by the borrower’s self-reported monthly income.</td> \n",
       "    </tr>    <tr> \n",
       "        <th id=\"T_9cc097b8_e5c0_11e8_93d7_1002b5253397level0_row9\" class=\"row_heading level0 row9\" >9</th> \n",
       "        <td id=\"T_9cc097b8_e5c0_11e8_93d7_1002b5253397row9_col0\" class=\"data row9 col0\" >dti_joint</td> \n",
       "        <td id=\"T_9cc097b8_e5c0_11e8_93d7_1002b5253397row9_col1\" class=\"data row9 col1\" >A ratio calculated using the co-borrowers' total monthly payments on the total debt obligations, excluding mortgages and the requested LC loan, divided by the co-borrowers' combined self-reported monthly income</td> \n",
       "    </tr>    <tr> \n",
       "        <th id=\"T_9cc097b8_e5c0_11e8_93d7_1002b5253397level0_row10\" class=\"row_heading level0 row10\" >10</th> \n",
       "        <td id=\"T_9cc097b8_e5c0_11e8_93d7_1002b5253397row10_col0\" class=\"data row10 col0\" >earliest_cr_line</td> \n",
       "        <td id=\"T_9cc097b8_e5c0_11e8_93d7_1002b5253397row10_col1\" class=\"data row10 col1\" >The month the borrower's earliest reported credit line was opened</td> \n",
       "    </tr>    <tr> \n",
       "        <th id=\"T_9cc097b8_e5c0_11e8_93d7_1002b5253397level0_row11\" class=\"row_heading level0 row11\" >11</th> \n",
       "        <td id=\"T_9cc097b8_e5c0_11e8_93d7_1002b5253397row11_col0\" class=\"data row11 col0\" >emp_length</td> \n",
       "        <td id=\"T_9cc097b8_e5c0_11e8_93d7_1002b5253397row11_col1\" class=\"data row11 col1\" >Employment length in years. Possible values are between 0 and 10 where 0 means less than one year and 10 means ten or more years. </td> \n",
       "    </tr>    <tr> \n",
       "        <th id=\"T_9cc097b8_e5c0_11e8_93d7_1002b5253397level0_row12\" class=\"row_heading level0 row12\" >12</th> \n",
       "        <td id=\"T_9cc097b8_e5c0_11e8_93d7_1002b5253397row12_col0\" class=\"data row12 col0\" >emp_title</td> \n",
       "        <td id=\"T_9cc097b8_e5c0_11e8_93d7_1002b5253397row12_col1\" class=\"data row12 col1\" >The job title supplied by the Borrower when applying for the loan.*</td> \n",
       "    </tr>    <tr> \n",
       "        <th id=\"T_9cc097b8_e5c0_11e8_93d7_1002b5253397level0_row13\" class=\"row_heading level0 row13\" >13</th> \n",
       "        <td id=\"T_9cc097b8_e5c0_11e8_93d7_1002b5253397row13_col0\" class=\"data row13 col0\" >fico_range_high</td> \n",
       "        <td id=\"T_9cc097b8_e5c0_11e8_93d7_1002b5253397row13_col1\" class=\"data row13 col1\" >The upper boundary range the borrower’s FICO at loan origination belongs to.</td> \n",
       "    </tr>    <tr> \n",
       "        <th id=\"T_9cc097b8_e5c0_11e8_93d7_1002b5253397level0_row14\" class=\"row_heading level0 row14\" >14</th> \n",
       "        <td id=\"T_9cc097b8_e5c0_11e8_93d7_1002b5253397row14_col0\" class=\"data row14 col0\" >fico_range_low</td> \n",
       "        <td id=\"T_9cc097b8_e5c0_11e8_93d7_1002b5253397row14_col1\" class=\"data row14 col1\" >The lower boundary range the borrower’s FICO at loan origination belongs to.</td> \n",
       "    </tr>    <tr> \n",
       "        <th id=\"T_9cc097b8_e5c0_11e8_93d7_1002b5253397level0_row15\" class=\"row_heading level0 row15\" >15</th> \n",
       "        <td id=\"T_9cc097b8_e5c0_11e8_93d7_1002b5253397row15_col0\" class=\"data row15 col0\" >funded_amnt</td> \n",
       "        <td id=\"T_9cc097b8_e5c0_11e8_93d7_1002b5253397row15_col1\" class=\"data row15 col1\" >The total amount committed to that loan at that point in time.</td> \n",
       "    </tr>    <tr> \n",
       "        <th id=\"T_9cc097b8_e5c0_11e8_93d7_1002b5253397level0_row16\" class=\"row_heading level0 row16\" >16</th> \n",
       "        <td id=\"T_9cc097b8_e5c0_11e8_93d7_1002b5253397row16_col0\" class=\"data row16 col0\" >funded_amnt_inv</td> \n",
       "        <td id=\"T_9cc097b8_e5c0_11e8_93d7_1002b5253397row16_col1\" class=\"data row16 col1\" >The total amount committed by investors for that loan at that point in time.</td> \n",
       "    </tr>    <tr> \n",
       "        <th id=\"T_9cc097b8_e5c0_11e8_93d7_1002b5253397level0_row17\" class=\"row_heading level0 row17\" >17</th> \n",
       "        <td id=\"T_9cc097b8_e5c0_11e8_93d7_1002b5253397row17_col0\" class=\"data row17 col0\" >grade</td> \n",
       "        <td id=\"T_9cc097b8_e5c0_11e8_93d7_1002b5253397row17_col1\" class=\"data row17 col1\" >LC assigned loan grade</td> \n",
       "    </tr>    <tr> \n",
       "        <th id=\"T_9cc097b8_e5c0_11e8_93d7_1002b5253397level0_row18\" class=\"row_heading level0 row18\" >18</th> \n",
       "        <td id=\"T_9cc097b8_e5c0_11e8_93d7_1002b5253397row18_col0\" class=\"data row18 col0\" >home_ownership</td> \n",
       "        <td id=\"T_9cc097b8_e5c0_11e8_93d7_1002b5253397row18_col1\" class=\"data row18 col1\" >The home ownership status provided by the borrower during registration. Our values are: RENT, OWN, MORTGAGE, OTHER.</td> \n",
       "    </tr>    <tr> \n",
       "        <th id=\"T_9cc097b8_e5c0_11e8_93d7_1002b5253397level0_row19\" class=\"row_heading level0 row19\" >19</th> \n",
       "        <td id=\"T_9cc097b8_e5c0_11e8_93d7_1002b5253397row19_col0\" class=\"data row19 col0\" >id</td> \n",
       "        <td id=\"T_9cc097b8_e5c0_11e8_93d7_1002b5253397row19_col1\" class=\"data row19 col1\" >A unique LC assigned ID for the loan listing.</td> \n",
       "    </tr>    <tr> \n",
       "        <th id=\"T_9cc097b8_e5c0_11e8_93d7_1002b5253397level0_row20\" class=\"row_heading level0 row20\" >20</th> \n",
       "        <td id=\"T_9cc097b8_e5c0_11e8_93d7_1002b5253397row20_col0\" class=\"data row20 col0\" >initial_list_status</td> \n",
       "        <td id=\"T_9cc097b8_e5c0_11e8_93d7_1002b5253397row20_col1\" class=\"data row20 col1\" >The initial listing status of the loan. Possible values are – W, F</td> \n",
       "    </tr>    <tr> \n",
       "        <th id=\"T_9cc097b8_e5c0_11e8_93d7_1002b5253397level0_row21\" class=\"row_heading level0 row21\" >21</th> \n",
       "        <td id=\"T_9cc097b8_e5c0_11e8_93d7_1002b5253397row21_col0\" class=\"data row21 col0\" >inq_last_6mths</td> \n",
       "        <td id=\"T_9cc097b8_e5c0_11e8_93d7_1002b5253397row21_col1\" class=\"data row21 col1\" >The number of inquiries in past 6 months (excluding auto and mortgage inquiries)</td> \n",
       "    </tr>    <tr> \n",
       "        <th id=\"T_9cc097b8_e5c0_11e8_93d7_1002b5253397level0_row22\" class=\"row_heading level0 row22\" >22</th> \n",
       "        <td id=\"T_9cc097b8_e5c0_11e8_93d7_1002b5253397row22_col0\" class=\"data row22 col0\" >installment</td> \n",
       "        <td id=\"T_9cc097b8_e5c0_11e8_93d7_1002b5253397row22_col1\" class=\"data row22 col1\" >The monthly payment owed by the borrower if the loan originates.</td> \n",
       "    </tr>    <tr> \n",
       "        <th id=\"T_9cc097b8_e5c0_11e8_93d7_1002b5253397level0_row23\" class=\"row_heading level0 row23\" >23</th> \n",
       "        <td id=\"T_9cc097b8_e5c0_11e8_93d7_1002b5253397row23_col0\" class=\"data row23 col0\" >int_rate</td> \n",
       "        <td id=\"T_9cc097b8_e5c0_11e8_93d7_1002b5253397row23_col1\" class=\"data row23 col1\" >Interest Rate on the loan</td> \n",
       "    </tr>    <tr> \n",
       "        <th id=\"T_9cc097b8_e5c0_11e8_93d7_1002b5253397level0_row24\" class=\"row_heading level0 row24\" >24</th> \n",
       "        <td id=\"T_9cc097b8_e5c0_11e8_93d7_1002b5253397row24_col0\" class=\"data row24 col0\" >is_inc_v</td> \n",
       "        <td id=\"T_9cc097b8_e5c0_11e8_93d7_1002b5253397row24_col1\" class=\"data row24 col1\" >Indicates if income was verified by LC, not verified, or if the income source was verified</td> \n",
       "    </tr>    <tr> \n",
       "        <th id=\"T_9cc097b8_e5c0_11e8_93d7_1002b5253397level0_row25\" class=\"row_heading level0 row25\" >25</th> \n",
       "        <td id=\"T_9cc097b8_e5c0_11e8_93d7_1002b5253397row25_col0\" class=\"data row25 col0\" >issue_d</td> \n",
       "        <td id=\"T_9cc097b8_e5c0_11e8_93d7_1002b5253397row25_col1\" class=\"data row25 col1\" >The month which the loan was funded</td> \n",
       "    </tr>    <tr> \n",
       "        <th id=\"T_9cc097b8_e5c0_11e8_93d7_1002b5253397level0_row26\" class=\"row_heading level0 row26\" >26</th> \n",
       "        <td id=\"T_9cc097b8_e5c0_11e8_93d7_1002b5253397row26_col0\" class=\"data row26 col0\" >last_credit_pull_d</td> \n",
       "        <td id=\"T_9cc097b8_e5c0_11e8_93d7_1002b5253397row26_col1\" class=\"data row26 col1\" >The most recent month LC pulled credit for this loan</td> \n",
       "    </tr>    <tr> \n",
       "        <th id=\"T_9cc097b8_e5c0_11e8_93d7_1002b5253397level0_row27\" class=\"row_heading level0 row27\" >27</th> \n",
       "        <td id=\"T_9cc097b8_e5c0_11e8_93d7_1002b5253397row27_col0\" class=\"data row27 col0\" >last_fico_range_high</td> \n",
       "        <td id=\"T_9cc097b8_e5c0_11e8_93d7_1002b5253397row27_col1\" class=\"data row27 col1\" >The upper boundary range the borrower’s last FICO pulled belongs to.</td> \n",
       "    </tr>    <tr> \n",
       "        <th id=\"T_9cc097b8_e5c0_11e8_93d7_1002b5253397level0_row28\" class=\"row_heading level0 row28\" >28</th> \n",
       "        <td id=\"T_9cc097b8_e5c0_11e8_93d7_1002b5253397row28_col0\" class=\"data row28 col0\" >last_fico_range_low</td> \n",
       "        <td id=\"T_9cc097b8_e5c0_11e8_93d7_1002b5253397row28_col1\" class=\"data row28 col1\" >The lower boundary range the borrower’s last FICO pulled belongs to.</td> \n",
       "    </tr>    <tr> \n",
       "        <th id=\"T_9cc097b8_e5c0_11e8_93d7_1002b5253397level0_row29\" class=\"row_heading level0 row29\" >29</th> \n",
       "        <td id=\"T_9cc097b8_e5c0_11e8_93d7_1002b5253397row29_col0\" class=\"data row29 col0\" >last_pymnt_amnt</td> \n",
       "        <td id=\"T_9cc097b8_e5c0_11e8_93d7_1002b5253397row29_col1\" class=\"data row29 col1\" >Last total payment amount received</td> \n",
       "    </tr>    <tr> \n",
       "        <th id=\"T_9cc097b8_e5c0_11e8_93d7_1002b5253397level0_row30\" class=\"row_heading level0 row30\" >30</th> \n",
       "        <td id=\"T_9cc097b8_e5c0_11e8_93d7_1002b5253397row30_col0\" class=\"data row30 col0\" >last_pymnt_d</td> \n",
       "        <td id=\"T_9cc097b8_e5c0_11e8_93d7_1002b5253397row30_col1\" class=\"data row30 col1\" >Last month payment was received</td> \n",
       "    </tr>    <tr> \n",
       "        <th id=\"T_9cc097b8_e5c0_11e8_93d7_1002b5253397level0_row31\" class=\"row_heading level0 row31\" >31</th> \n",
       "        <td id=\"T_9cc097b8_e5c0_11e8_93d7_1002b5253397row31_col0\" class=\"data row31 col0\" >loan_amnt</td> \n",
       "        <td id=\"T_9cc097b8_e5c0_11e8_93d7_1002b5253397row31_col1\" class=\"data row31 col1\" >The listed amount of the loan applied for by the borrower. If at some point in time, the credit department reduces the loan amount, then it will be reflected in this value.</td> \n",
       "    </tr>    <tr> \n",
       "        <th id=\"T_9cc097b8_e5c0_11e8_93d7_1002b5253397level0_row32\" class=\"row_heading level0 row32\" >32</th> \n",
       "        <td id=\"T_9cc097b8_e5c0_11e8_93d7_1002b5253397row32_col0\" class=\"data row32 col0\" >loan_status</td> \n",
       "        <td id=\"T_9cc097b8_e5c0_11e8_93d7_1002b5253397row32_col1\" class=\"data row32 col1\" >Current status of the loan</td> \n",
       "    </tr>    <tr> \n",
       "        <th id=\"T_9cc097b8_e5c0_11e8_93d7_1002b5253397level0_row33\" class=\"row_heading level0 row33\" >33</th> \n",
       "        <td id=\"T_9cc097b8_e5c0_11e8_93d7_1002b5253397row33_col0\" class=\"data row33 col0\" >member_id</td> \n",
       "        <td id=\"T_9cc097b8_e5c0_11e8_93d7_1002b5253397row33_col1\" class=\"data row33 col1\" >A unique LC assigned Id for the borrower member.</td> \n",
       "    </tr>    <tr> \n",
       "        <th id=\"T_9cc097b8_e5c0_11e8_93d7_1002b5253397level0_row34\" class=\"row_heading level0 row34\" >34</th> \n",
       "        <td id=\"T_9cc097b8_e5c0_11e8_93d7_1002b5253397row34_col0\" class=\"data row34 col0\" >mths_since_last_delinq</td> \n",
       "        <td id=\"T_9cc097b8_e5c0_11e8_93d7_1002b5253397row34_col1\" class=\"data row34 col1\" >The number of months since the borrower's last delinquency.</td> \n",
       "    </tr>    <tr> \n",
       "        <th id=\"T_9cc097b8_e5c0_11e8_93d7_1002b5253397level0_row35\" class=\"row_heading level0 row35\" >35</th> \n",
       "        <td id=\"T_9cc097b8_e5c0_11e8_93d7_1002b5253397row35_col0\" class=\"data row35 col0\" >mths_since_last_major_derog</td> \n",
       "        <td id=\"T_9cc097b8_e5c0_11e8_93d7_1002b5253397row35_col1\" class=\"data row35 col1\" >Months since most recent 90-day or worse rating</td> \n",
       "    </tr>    <tr> \n",
       "        <th id=\"T_9cc097b8_e5c0_11e8_93d7_1002b5253397level0_row36\" class=\"row_heading level0 row36\" >36</th> \n",
       "        <td id=\"T_9cc097b8_e5c0_11e8_93d7_1002b5253397row36_col0\" class=\"data row36 col0\" >mths_since_last_record</td> \n",
       "        <td id=\"T_9cc097b8_e5c0_11e8_93d7_1002b5253397row36_col1\" class=\"data row36 col1\" >The number of months since the last public record.</td> \n",
       "    </tr>    <tr> \n",
       "        <th id=\"T_9cc097b8_e5c0_11e8_93d7_1002b5253397level0_row37\" class=\"row_heading level0 row37\" >37</th> \n",
       "        <td id=\"T_9cc097b8_e5c0_11e8_93d7_1002b5253397row37_col0\" class=\"data row37 col0\" >next_pymnt_d</td> \n",
       "        <td id=\"T_9cc097b8_e5c0_11e8_93d7_1002b5253397row37_col1\" class=\"data row37 col1\" >Next scheduled payment date</td> \n",
       "    </tr>    <tr> \n",
       "        <th id=\"T_9cc097b8_e5c0_11e8_93d7_1002b5253397level0_row38\" class=\"row_heading level0 row38\" >38</th> \n",
       "        <td id=\"T_9cc097b8_e5c0_11e8_93d7_1002b5253397row38_col0\" class=\"data row38 col0\" >open_acc</td> \n",
       "        <td id=\"T_9cc097b8_e5c0_11e8_93d7_1002b5253397row38_col1\" class=\"data row38 col1\" >The number of open credit lines in the borrower's credit file.</td> \n",
       "    </tr>    <tr> \n",
       "        <th id=\"T_9cc097b8_e5c0_11e8_93d7_1002b5253397level0_row39\" class=\"row_heading level0 row39\" >39</th> \n",
       "        <td id=\"T_9cc097b8_e5c0_11e8_93d7_1002b5253397row39_col0\" class=\"data row39 col0\" >out_prncp</td> \n",
       "        <td id=\"T_9cc097b8_e5c0_11e8_93d7_1002b5253397row39_col1\" class=\"data row39 col1\" >Remaining outstanding principal for total amount funded</td> \n",
       "    </tr>    <tr> \n",
       "        <th id=\"T_9cc097b8_e5c0_11e8_93d7_1002b5253397level0_row40\" class=\"row_heading level0 row40\" >40</th> \n",
       "        <td id=\"T_9cc097b8_e5c0_11e8_93d7_1002b5253397row40_col0\" class=\"data row40 col0\" >out_prncp_inv</td> \n",
       "        <td id=\"T_9cc097b8_e5c0_11e8_93d7_1002b5253397row40_col1\" class=\"data row40 col1\" >Remaining outstanding principal for portion of total amount funded by investors</td> \n",
       "    </tr>    <tr> \n",
       "        <th id=\"T_9cc097b8_e5c0_11e8_93d7_1002b5253397level0_row41\" class=\"row_heading level0 row41\" >41</th> \n",
       "        <td id=\"T_9cc097b8_e5c0_11e8_93d7_1002b5253397row41_col0\" class=\"data row41 col0\" >policy_code</td> \n",
       "        <td id=\"T_9cc097b8_e5c0_11e8_93d7_1002b5253397row41_col1\" class=\"data row41 col1\" >publicly available policy_code=1\n",
       "new products not publicly available policy_code=2</td> \n",
       "    </tr>    <tr> \n",
       "        <th id=\"T_9cc097b8_e5c0_11e8_93d7_1002b5253397level0_row42\" class=\"row_heading level0 row42\" >42</th> \n",
       "        <td id=\"T_9cc097b8_e5c0_11e8_93d7_1002b5253397row42_col0\" class=\"data row42 col0\" >pub_rec</td> \n",
       "        <td id=\"T_9cc097b8_e5c0_11e8_93d7_1002b5253397row42_col1\" class=\"data row42 col1\" >Number of derogatory public records</td> \n",
       "    </tr>    <tr> \n",
       "        <th id=\"T_9cc097b8_e5c0_11e8_93d7_1002b5253397level0_row43\" class=\"row_heading level0 row43\" >43</th> \n",
       "        <td id=\"T_9cc097b8_e5c0_11e8_93d7_1002b5253397row43_col0\" class=\"data row43 col0\" >purpose</td> \n",
       "        <td id=\"T_9cc097b8_e5c0_11e8_93d7_1002b5253397row43_col1\" class=\"data row43 col1\" >A category provided by the borrower for the loan request. </td> \n",
       "    </tr>    <tr> \n",
       "        <th id=\"T_9cc097b8_e5c0_11e8_93d7_1002b5253397level0_row44\" class=\"row_heading level0 row44\" >44</th> \n",
       "        <td id=\"T_9cc097b8_e5c0_11e8_93d7_1002b5253397row44_col0\" class=\"data row44 col0\" >pymnt_plan</td> \n",
       "        <td id=\"T_9cc097b8_e5c0_11e8_93d7_1002b5253397row44_col1\" class=\"data row44 col1\" >Indicates if a payment plan has been put in place for the loan</td> \n",
       "    </tr>    <tr> \n",
       "        <th id=\"T_9cc097b8_e5c0_11e8_93d7_1002b5253397level0_row45\" class=\"row_heading level0 row45\" >45</th> \n",
       "        <td id=\"T_9cc097b8_e5c0_11e8_93d7_1002b5253397row45_col0\" class=\"data row45 col0\" >recoveries</td> \n",
       "        <td id=\"T_9cc097b8_e5c0_11e8_93d7_1002b5253397row45_col1\" class=\"data row45 col1\" >post charge off gross recovery</td> \n",
       "    </tr>    <tr> \n",
       "        <th id=\"T_9cc097b8_e5c0_11e8_93d7_1002b5253397level0_row46\" class=\"row_heading level0 row46\" >46</th> \n",
       "        <td id=\"T_9cc097b8_e5c0_11e8_93d7_1002b5253397row46_col0\" class=\"data row46 col0\" >revol_bal</td> \n",
       "        <td id=\"T_9cc097b8_e5c0_11e8_93d7_1002b5253397row46_col1\" class=\"data row46 col1\" >Total credit revolving balance</td> \n",
       "    </tr>    <tr> \n",
       "        <th id=\"T_9cc097b8_e5c0_11e8_93d7_1002b5253397level0_row47\" class=\"row_heading level0 row47\" >47</th> \n",
       "        <td id=\"T_9cc097b8_e5c0_11e8_93d7_1002b5253397row47_col0\" class=\"data row47 col0\" >revol_util</td> \n",
       "        <td id=\"T_9cc097b8_e5c0_11e8_93d7_1002b5253397row47_col1\" class=\"data row47 col1\" >Revolving line utilization rate, or the amount of credit the borrower is using relative to all available revolving credit.</td> \n",
       "    </tr>    <tr> \n",
       "        <th id=\"T_9cc097b8_e5c0_11e8_93d7_1002b5253397level0_row48\" class=\"row_heading level0 row48\" >48</th> \n",
       "        <td id=\"T_9cc097b8_e5c0_11e8_93d7_1002b5253397row48_col0\" class=\"data row48 col0\" >sub_grade</td> \n",
       "        <td id=\"T_9cc097b8_e5c0_11e8_93d7_1002b5253397row48_col1\" class=\"data row48 col1\" >LC assigned loan subgrade</td> \n",
       "    </tr>    <tr> \n",
       "        <th id=\"T_9cc097b8_e5c0_11e8_93d7_1002b5253397level0_row49\" class=\"row_heading level0 row49\" >49</th> \n",
       "        <td id=\"T_9cc097b8_e5c0_11e8_93d7_1002b5253397row49_col0\" class=\"data row49 col0\" >term</td> \n",
       "        <td id=\"T_9cc097b8_e5c0_11e8_93d7_1002b5253397row49_col1\" class=\"data row49 col1\" >The number of payments on the loan. Values are in months and can be either 36 or 60.</td> \n",
       "    </tr>    <tr> \n",
       "        <th id=\"T_9cc097b8_e5c0_11e8_93d7_1002b5253397level0_row50\" class=\"row_heading level0 row50\" >50</th> \n",
       "        <td id=\"T_9cc097b8_e5c0_11e8_93d7_1002b5253397row50_col0\" class=\"data row50 col0\" >title</td> \n",
       "        <td id=\"T_9cc097b8_e5c0_11e8_93d7_1002b5253397row50_col1\" class=\"data row50 col1\" >The loan title provided by the borrower</td> \n",
       "    </tr>    <tr> \n",
       "        <th id=\"T_9cc097b8_e5c0_11e8_93d7_1002b5253397level0_row51\" class=\"row_heading level0 row51\" >51</th> \n",
       "        <td id=\"T_9cc097b8_e5c0_11e8_93d7_1002b5253397row51_col0\" class=\"data row51 col0\" >total_acc</td> \n",
       "        <td id=\"T_9cc097b8_e5c0_11e8_93d7_1002b5253397row51_col1\" class=\"data row51 col1\" >The total number of credit lines currently in the borrower's credit file</td> \n",
       "    </tr>    <tr> \n",
       "        <th id=\"T_9cc097b8_e5c0_11e8_93d7_1002b5253397level0_row52\" class=\"row_heading level0 row52\" >52</th> \n",
       "        <td id=\"T_9cc097b8_e5c0_11e8_93d7_1002b5253397row52_col0\" class=\"data row52 col0\" >total_pymnt</td> \n",
       "        <td id=\"T_9cc097b8_e5c0_11e8_93d7_1002b5253397row52_col1\" class=\"data row52 col1\" >Payments received to date for total amount funded</td> \n",
       "    </tr>    <tr> \n",
       "        <th id=\"T_9cc097b8_e5c0_11e8_93d7_1002b5253397level0_row53\" class=\"row_heading level0 row53\" >53</th> \n",
       "        <td id=\"T_9cc097b8_e5c0_11e8_93d7_1002b5253397row53_col0\" class=\"data row53 col0\" >total_pymnt_inv</td> \n",
       "        <td id=\"T_9cc097b8_e5c0_11e8_93d7_1002b5253397row53_col1\" class=\"data row53 col1\" >Payments received to date for portion of total amount funded by investors</td> \n",
       "    </tr>    <tr> \n",
       "        <th id=\"T_9cc097b8_e5c0_11e8_93d7_1002b5253397level0_row54\" class=\"row_heading level0 row54\" >54</th> \n",
       "        <td id=\"T_9cc097b8_e5c0_11e8_93d7_1002b5253397row54_col0\" class=\"data row54 col0\" >total_rec_int</td> \n",
       "        <td id=\"T_9cc097b8_e5c0_11e8_93d7_1002b5253397row54_col1\" class=\"data row54 col1\" >Interest received to date</td> \n",
       "    </tr>    <tr> \n",
       "        <th id=\"T_9cc097b8_e5c0_11e8_93d7_1002b5253397level0_row55\" class=\"row_heading level0 row55\" >55</th> \n",
       "        <td id=\"T_9cc097b8_e5c0_11e8_93d7_1002b5253397row55_col0\" class=\"data row55 col0\" >total_rec_late_fee</td> \n",
       "        <td id=\"T_9cc097b8_e5c0_11e8_93d7_1002b5253397row55_col1\" class=\"data row55 col1\" >Late fees received to date</td> \n",
       "    </tr>    <tr> \n",
       "        <th id=\"T_9cc097b8_e5c0_11e8_93d7_1002b5253397level0_row56\" class=\"row_heading level0 row56\" >56</th> \n",
       "        <td id=\"T_9cc097b8_e5c0_11e8_93d7_1002b5253397row56_col0\" class=\"data row56 col0\" >total_rec_prncp</td> \n",
       "        <td id=\"T_9cc097b8_e5c0_11e8_93d7_1002b5253397row56_col1\" class=\"data row56 col1\" >Principal received to date</td> \n",
       "    </tr>    <tr> \n",
       "        <th id=\"T_9cc097b8_e5c0_11e8_93d7_1002b5253397level0_row57\" class=\"row_heading level0 row57\" >57</th> \n",
       "        <td id=\"T_9cc097b8_e5c0_11e8_93d7_1002b5253397row57_col0\" class=\"data row57 col0\" >url</td> \n",
       "        <td id=\"T_9cc097b8_e5c0_11e8_93d7_1002b5253397row57_col1\" class=\"data row57 col1\" >URL for the LC page with listing data.</td> \n",
       "    </tr>    <tr> \n",
       "        <th id=\"T_9cc097b8_e5c0_11e8_93d7_1002b5253397level0_row58\" class=\"row_heading level0 row58\" >58</th> \n",
       "        <td id=\"T_9cc097b8_e5c0_11e8_93d7_1002b5253397row58_col0\" class=\"data row58 col0\" >verified_status_joint</td> \n",
       "        <td id=\"T_9cc097b8_e5c0_11e8_93d7_1002b5253397row58_col1\" class=\"data row58 col1\" >Indicates if the co-borrowers' joint income was verified by LC, not verified, or if the income source was verified</td> \n",
       "    </tr>    <tr> \n",
       "        <th id=\"T_9cc097b8_e5c0_11e8_93d7_1002b5253397level0_row59\" class=\"row_heading level0 row59\" >59</th> \n",
       "        <td id=\"T_9cc097b8_e5c0_11e8_93d7_1002b5253397row59_col0\" class=\"data row59 col0\" >zip_code</td> \n",
       "        <td id=\"T_9cc097b8_e5c0_11e8_93d7_1002b5253397row59_col1\" class=\"data row59 col1\" >The first 3 numbers of the zip code provided by the borrower in the loan application.</td> \n",
       "    </tr>    <tr> \n",
       "        <th id=\"T_9cc097b8_e5c0_11e8_93d7_1002b5253397level0_row60\" class=\"row_heading level0 row60\" >60</th> \n",
       "        <td id=\"T_9cc097b8_e5c0_11e8_93d7_1002b5253397row60_col0\" class=\"data row60 col0\" >open_acc_6m</td> \n",
       "        <td id=\"T_9cc097b8_e5c0_11e8_93d7_1002b5253397row60_col1\" class=\"data row60 col1\" >Number of open trades in last 6 months</td> \n",
       "    </tr>    <tr> \n",
       "        <th id=\"T_9cc097b8_e5c0_11e8_93d7_1002b5253397level0_row61\" class=\"row_heading level0 row61\" >61</th> \n",
       "        <td id=\"T_9cc097b8_e5c0_11e8_93d7_1002b5253397row61_col0\" class=\"data row61 col0\" >open_il_6m</td> \n",
       "        <td id=\"T_9cc097b8_e5c0_11e8_93d7_1002b5253397row61_col1\" class=\"data row61 col1\" >Number of currently active installment trades</td> \n",
       "    </tr>    <tr> \n",
       "        <th id=\"T_9cc097b8_e5c0_11e8_93d7_1002b5253397level0_row62\" class=\"row_heading level0 row62\" >62</th> \n",
       "        <td id=\"T_9cc097b8_e5c0_11e8_93d7_1002b5253397row62_col0\" class=\"data row62 col0\" >open_il_12m</td> \n",
       "        <td id=\"T_9cc097b8_e5c0_11e8_93d7_1002b5253397row62_col1\" class=\"data row62 col1\" >Number of installment accounts opened in past 12 months</td> \n",
       "    </tr>    <tr> \n",
       "        <th id=\"T_9cc097b8_e5c0_11e8_93d7_1002b5253397level0_row63\" class=\"row_heading level0 row63\" >63</th> \n",
       "        <td id=\"T_9cc097b8_e5c0_11e8_93d7_1002b5253397row63_col0\" class=\"data row63 col0\" >open_il_24m</td> \n",
       "        <td id=\"T_9cc097b8_e5c0_11e8_93d7_1002b5253397row63_col1\" class=\"data row63 col1\" >Number of installment accounts opened in past 24 months</td> \n",
       "    </tr>    <tr> \n",
       "        <th id=\"T_9cc097b8_e5c0_11e8_93d7_1002b5253397level0_row64\" class=\"row_heading level0 row64\" >64</th> \n",
       "        <td id=\"T_9cc097b8_e5c0_11e8_93d7_1002b5253397row64_col0\" class=\"data row64 col0\" >mths_since_rcnt_il</td> \n",
       "        <td id=\"T_9cc097b8_e5c0_11e8_93d7_1002b5253397row64_col1\" class=\"data row64 col1\" >Months since most recent installment accounts opened</td> \n",
       "    </tr>    <tr> \n",
       "        <th id=\"T_9cc097b8_e5c0_11e8_93d7_1002b5253397level0_row65\" class=\"row_heading level0 row65\" >65</th> \n",
       "        <td id=\"T_9cc097b8_e5c0_11e8_93d7_1002b5253397row65_col0\" class=\"data row65 col0\" >total_bal_il</td> \n",
       "        <td id=\"T_9cc097b8_e5c0_11e8_93d7_1002b5253397row65_col1\" class=\"data row65 col1\" >Total current balance of all installment accounts</td> \n",
       "    </tr>    <tr> \n",
       "        <th id=\"T_9cc097b8_e5c0_11e8_93d7_1002b5253397level0_row66\" class=\"row_heading level0 row66\" >66</th> \n",
       "        <td id=\"T_9cc097b8_e5c0_11e8_93d7_1002b5253397row66_col0\" class=\"data row66 col0\" >il_util</td> \n",
       "        <td id=\"T_9cc097b8_e5c0_11e8_93d7_1002b5253397row66_col1\" class=\"data row66 col1\" >Ratio of total current balance to high credit/credit limit on all install acct</td> \n",
       "    </tr>    <tr> \n",
       "        <th id=\"T_9cc097b8_e5c0_11e8_93d7_1002b5253397level0_row67\" class=\"row_heading level0 row67\" >67</th> \n",
       "        <td id=\"T_9cc097b8_e5c0_11e8_93d7_1002b5253397row67_col0\" class=\"data row67 col0\" >open_rv_12m</td> \n",
       "        <td id=\"T_9cc097b8_e5c0_11e8_93d7_1002b5253397row67_col1\" class=\"data row67 col1\" >Number of revolving trades opened in past 12 months</td> \n",
       "    </tr>    <tr> \n",
       "        <th id=\"T_9cc097b8_e5c0_11e8_93d7_1002b5253397level0_row68\" class=\"row_heading level0 row68\" >68</th> \n",
       "        <td id=\"T_9cc097b8_e5c0_11e8_93d7_1002b5253397row68_col0\" class=\"data row68 col0\" >open_rv_24m</td> \n",
       "        <td id=\"T_9cc097b8_e5c0_11e8_93d7_1002b5253397row68_col1\" class=\"data row68 col1\" >Number of revolving trades opened in past 24 months</td> \n",
       "    </tr>    <tr> \n",
       "        <th id=\"T_9cc097b8_e5c0_11e8_93d7_1002b5253397level0_row69\" class=\"row_heading level0 row69\" >69</th> \n",
       "        <td id=\"T_9cc097b8_e5c0_11e8_93d7_1002b5253397row69_col0\" class=\"data row69 col0\" >max_bal_bc</td> \n",
       "        <td id=\"T_9cc097b8_e5c0_11e8_93d7_1002b5253397row69_col1\" class=\"data row69 col1\" >Maximum current balance owed on all revolving accounts</td> \n",
       "    </tr>    <tr> \n",
       "        <th id=\"T_9cc097b8_e5c0_11e8_93d7_1002b5253397level0_row70\" class=\"row_heading level0 row70\" >70</th> \n",
       "        <td id=\"T_9cc097b8_e5c0_11e8_93d7_1002b5253397row70_col0\" class=\"data row70 col0\" >all_util</td> \n",
       "        <td id=\"T_9cc097b8_e5c0_11e8_93d7_1002b5253397row70_col1\" class=\"data row70 col1\" >Balance to credit limit on all trades</td> \n",
       "    </tr>    <tr> \n",
       "        <th id=\"T_9cc097b8_e5c0_11e8_93d7_1002b5253397level0_row71\" class=\"row_heading level0 row71\" >71</th> \n",
       "        <td id=\"T_9cc097b8_e5c0_11e8_93d7_1002b5253397row71_col0\" class=\"data row71 col0\" >total_rev_hi_lim  </td> \n",
       "        <td id=\"T_9cc097b8_e5c0_11e8_93d7_1002b5253397row71_col1\" class=\"data row71 col1\" >Total revolving high credit/credit limit</td> \n",
       "    </tr>    <tr> \n",
       "        <th id=\"T_9cc097b8_e5c0_11e8_93d7_1002b5253397level0_row72\" class=\"row_heading level0 row72\" >72</th> \n",
       "        <td id=\"T_9cc097b8_e5c0_11e8_93d7_1002b5253397row72_col0\" class=\"data row72 col0\" >inq_fi</td> \n",
       "        <td id=\"T_9cc097b8_e5c0_11e8_93d7_1002b5253397row72_col1\" class=\"data row72 col1\" >Number of personal finance inquiries</td> \n",
       "    </tr>    <tr> \n",
       "        <th id=\"T_9cc097b8_e5c0_11e8_93d7_1002b5253397level0_row73\" class=\"row_heading level0 row73\" >73</th> \n",
       "        <td id=\"T_9cc097b8_e5c0_11e8_93d7_1002b5253397row73_col0\" class=\"data row73 col0\" >total_cu_tl</td> \n",
       "        <td id=\"T_9cc097b8_e5c0_11e8_93d7_1002b5253397row73_col1\" class=\"data row73 col1\" >Number of finance trades</td> \n",
       "    </tr>    <tr> \n",
       "        <th id=\"T_9cc097b8_e5c0_11e8_93d7_1002b5253397level0_row74\" class=\"row_heading level0 row74\" >74</th> \n",
       "        <td id=\"T_9cc097b8_e5c0_11e8_93d7_1002b5253397row74_col0\" class=\"data row74 col0\" >inq_last_12m</td> \n",
       "        <td id=\"T_9cc097b8_e5c0_11e8_93d7_1002b5253397row74_col1\" class=\"data row74 col1\" >Number of credit inquiries in past 12 months</td> \n",
       "    </tr>    <tr> \n",
       "        <th id=\"T_9cc097b8_e5c0_11e8_93d7_1002b5253397level0_row75\" class=\"row_heading level0 row75\" >75</th> \n",
       "        <td id=\"T_9cc097b8_e5c0_11e8_93d7_1002b5253397row75_col0\" class=\"data row75 col0\" >acc_now_delinq</td> \n",
       "        <td id=\"T_9cc097b8_e5c0_11e8_93d7_1002b5253397row75_col1\" class=\"data row75 col1\" >The number of accounts on which the borrower is now delinquent.</td> \n",
       "    </tr>    <tr> \n",
       "        <th id=\"T_9cc097b8_e5c0_11e8_93d7_1002b5253397level0_row76\" class=\"row_heading level0 row76\" >76</th> \n",
       "        <td id=\"T_9cc097b8_e5c0_11e8_93d7_1002b5253397row76_col0\" class=\"data row76 col0\" >tot_coll_amt</td> \n",
       "        <td id=\"T_9cc097b8_e5c0_11e8_93d7_1002b5253397row76_col1\" class=\"data row76 col1\" >Total collection amounts ever owed</td> \n",
       "    </tr>    <tr> \n",
       "        <th id=\"T_9cc097b8_e5c0_11e8_93d7_1002b5253397level0_row77\" class=\"row_heading level0 row77\" >77</th> \n",
       "        <td id=\"T_9cc097b8_e5c0_11e8_93d7_1002b5253397row77_col0\" class=\"data row77 col0\" >tot_cur_bal</td> \n",
       "        <td id=\"T_9cc097b8_e5c0_11e8_93d7_1002b5253397row77_col1\" class=\"data row77 col1\" >Total current balance of all accounts</td> \n",
       "    </tr></tbody> \n",
       "</table> "
      ],
      "text/plain": [
       "<pandas.io.formats.style.Styler at 0x21180e93b38>"
      ]
     },
     "execution_count": 6,
     "metadata": {},
     "output_type": "execute_result"
    }
   ],
   "source": [
    "df_description = pd.read_excel('LCDataDictionary.xlsx').dropna()\n",
    "df_description.style.set_properties(subset=['Description'], **{'width': '1000px'})"
   ]
  },
  {
   "cell_type": "markdown",
   "metadata": {},
   "source": [
    "**Find columns with missing values**"
   ]
  },
  {
   "cell_type": "code",
   "execution_count": 7,
   "metadata": {},
   "outputs": [],
   "source": [
    "def find_missing_values(df):\n",
    "    mis_val = df.isnull().sum()\n",
    "    mis_val_percent = 100 * df.isnull().sum() / len(df)\n",
    "    mis_val_table = pd.concat([mis_val, mis_val_percent], axis=1)\n",
    "    mis_val_table_ren_columns = mis_val_table.rename(\n",
    "    columns = {0 : 'Missing Values', 1 : '% of Total Values'})\n",
    "    mis_val_table_ren_columns = mis_val_table_ren_columns[mis_val_table_ren_columns.iloc[:,1] != 0].sort_values('% of Total Values', ascending=False).round(1)\n",
    "    print (\"Dataframe has \" + str(df.shape[1]) + \" columns.\\n\" \"There are \" + str(mis_val_table_ren_columns.shape[0]) + \" columns that have missing values.\")\n",
    "   \n",
    "    return mis_val_table_ren_columns"
   ]
  },
  {
   "cell_type": "code",
   "execution_count": 8,
   "metadata": {},
   "outputs": [
    {
     "name": "stdout",
     "output_type": "stream",
     "text": [
      "Dataframe has 74 columns.\n",
      "There are 40 columns that have missing values.\n"
     ]
    },
    {
     "data": {
      "text/html": [
       "<div>\n",
       "<style scoped>\n",
       "    .dataframe tbody tr th:only-of-type {\n",
       "        vertical-align: middle;\n",
       "    }\n",
       "\n",
       "    .dataframe tbody tr th {\n",
       "        vertical-align: top;\n",
       "    }\n",
       "\n",
       "    .dataframe thead th {\n",
       "        text-align: right;\n",
       "    }\n",
       "</style>\n",
       "<table border=\"1\" class=\"dataframe\">\n",
       "  <thead>\n",
       "    <tr style=\"text-align: right;\">\n",
       "      <th></th>\n",
       "      <th>Missing Values</th>\n",
       "      <th>% of Total Values</th>\n",
       "    </tr>\n",
       "  </thead>\n",
       "  <tbody>\n",
       "    <tr>\n",
       "      <th>dti_joint</th>\n",
       "      <td>886870</td>\n",
       "      <td>99.9</td>\n",
       "    </tr>\n",
       "    <tr>\n",
       "      <th>annual_inc_joint</th>\n",
       "      <td>886868</td>\n",
       "      <td>99.9</td>\n",
       "    </tr>\n",
       "    <tr>\n",
       "      <th>verification_status_joint</th>\n",
       "      <td>886868</td>\n",
       "      <td>99.9</td>\n",
       "    </tr>\n",
       "    <tr>\n",
       "      <th>il_util</th>\n",
       "      <td>868762</td>\n",
       "      <td>97.9</td>\n",
       "    </tr>\n",
       "    <tr>\n",
       "      <th>mths_since_rcnt_il</th>\n",
       "      <td>866569</td>\n",
       "      <td>97.7</td>\n",
       "    </tr>\n",
       "    <tr>\n",
       "      <th>total_cu_tl</th>\n",
       "      <td>866007</td>\n",
       "      <td>97.6</td>\n",
       "    </tr>\n",
       "    <tr>\n",
       "      <th>inq_fi</th>\n",
       "      <td>866007</td>\n",
       "      <td>97.6</td>\n",
       "    </tr>\n",
       "    <tr>\n",
       "      <th>all_util</th>\n",
       "      <td>866007</td>\n",
       "      <td>97.6</td>\n",
       "    </tr>\n",
       "    <tr>\n",
       "      <th>max_bal_bc</th>\n",
       "      <td>866007</td>\n",
       "      <td>97.6</td>\n",
       "    </tr>\n",
       "    <tr>\n",
       "      <th>open_rv_24m</th>\n",
       "      <td>866007</td>\n",
       "      <td>97.6</td>\n",
       "    </tr>\n",
       "    <tr>\n",
       "      <th>open_rv_12m</th>\n",
       "      <td>866007</td>\n",
       "      <td>97.6</td>\n",
       "    </tr>\n",
       "    <tr>\n",
       "      <th>total_bal_il</th>\n",
       "      <td>866007</td>\n",
       "      <td>97.6</td>\n",
       "    </tr>\n",
       "    <tr>\n",
       "      <th>open_il_24m</th>\n",
       "      <td>866007</td>\n",
       "      <td>97.6</td>\n",
       "    </tr>\n",
       "    <tr>\n",
       "      <th>open_il_12m</th>\n",
       "      <td>866007</td>\n",
       "      <td>97.6</td>\n",
       "    </tr>\n",
       "    <tr>\n",
       "      <th>open_il_6m</th>\n",
       "      <td>866007</td>\n",
       "      <td>97.6</td>\n",
       "    </tr>\n",
       "    <tr>\n",
       "      <th>open_acc_6m</th>\n",
       "      <td>866007</td>\n",
       "      <td>97.6</td>\n",
       "    </tr>\n",
       "    <tr>\n",
       "      <th>inq_last_12m</th>\n",
       "      <td>866007</td>\n",
       "      <td>97.6</td>\n",
       "    </tr>\n",
       "    <tr>\n",
       "      <th>desc</th>\n",
       "      <td>761351</td>\n",
       "      <td>85.8</td>\n",
       "    </tr>\n",
       "    <tr>\n",
       "      <th>mths_since_last_record</th>\n",
       "      <td>750326</td>\n",
       "      <td>84.6</td>\n",
       "    </tr>\n",
       "    <tr>\n",
       "      <th>mths_since_last_major_derog</th>\n",
       "      <td>665676</td>\n",
       "      <td>75.0</td>\n",
       "    </tr>\n",
       "  </tbody>\n",
       "</table>\n",
       "</div>"
      ],
      "text/plain": [
       "                             Missing Values  % of Total Values\n",
       "dti_joint                            886870               99.9\n",
       "annual_inc_joint                     886868               99.9\n",
       "verification_status_joint            886868               99.9\n",
       "il_util                              868762               97.9\n",
       "mths_since_rcnt_il                   866569               97.7\n",
       "total_cu_tl                          866007               97.6\n",
       "inq_fi                               866007               97.6\n",
       "all_util                             866007               97.6\n",
       "max_bal_bc                           866007               97.6\n",
       "open_rv_24m                          866007               97.6\n",
       "open_rv_12m                          866007               97.6\n",
       "total_bal_il                         866007               97.6\n",
       "open_il_24m                          866007               97.6\n",
       "open_il_12m                          866007               97.6\n",
       "open_il_6m                           866007               97.6\n",
       "open_acc_6m                          866007               97.6\n",
       "inq_last_12m                         866007               97.6\n",
       "desc                                 761351               85.8\n",
       "mths_since_last_record               750326               84.6\n",
       "mths_since_last_major_derog          665676               75.0"
      ]
     },
     "execution_count": 8,
     "metadata": {},
     "output_type": "execute_result"
    }
   ],
   "source": [
    "missing_values = find_missing_values(df)\n",
    "missing_values.head(20)"
   ]
  },
  {
   "cell_type": "markdown",
   "metadata": {},
   "source": [
    "**There are a lot of columns with too much missing data. Columns will have to be removed later.**"
   ]
  },
  {
   "cell_type": "markdown",
   "metadata": {},
   "source": [
    "Let's determine how many loans went to default"
   ]
  },
  {
   "cell_type": "code",
   "execution_count": 9,
   "metadata": {},
   "outputs": [
    {
     "data": {
      "text/plain": [
       "0    886160\n",
       "1      1219\n",
       "Name: TARGET, dtype: int64"
      ]
     },
     "execution_count": 9,
     "metadata": {},
     "output_type": "execute_result"
    }
   ],
   "source": [
    "target_list = [1 if i=='Default' else 0  for i in df['loan_status']]\n",
    "\n",
    "df['TARGET'] = target_list\n",
    "df['TARGET'].value_counts()"
   ]
  },
  {
   "cell_type": "markdown",
   "metadata": {},
   "source": [
    "**It is clear that the dataset is imbalenced, since the amount of defaulted loans is significantly small. Appropriate cost function and sampling techniques will have to be used to prevent bias when modelling.**"
   ]
  },
  {
   "cell_type": "code",
   "execution_count": 10,
   "metadata": {},
   "outputs": [],
   "source": [
    "df.drop('loan_status', axis=1, inplace=True)"
   ]
  },
  {
   "cell_type": "code",
   "execution_count": 11,
   "metadata": {},
   "outputs": [
    {
     "data": {
      "text/plain": [
       "Text(0,0.5,'Data type')"
      ]
     },
     "execution_count": 11,
     "metadata": {},
     "output_type": "execute_result"
    },
    {
     "data": {
      "image/png": "[encoded data removed]",
      "text/plain": [
       "<matplotlib.figure.Figure at 0x21180f4a9e8>"
      ]
     },
     "metadata": {},
     "output_type": "display_data"
    }
   ],
   "source": [
    "df.dtypes.value_counts().sort_values().plot(kind='bar')\n",
    "plt.title('Number of columns by Data Types',fontsize=20)\n",
    "plt.xlabel('Number of columns',fontsize=15)\n",
    "plt.xticks(rotation=0)\n",
    "plt.ylabel('Data type',fontsize=15)"
   ]
  },
  {
   "cell_type": "markdown",
   "metadata": {},
   "source": [
    "**The 'object' columns will need more processing before being usable for modelling**"
   ]
  },
  {
   "cell_type": "markdown",
   "metadata": {},
   "source": [
    "### Anomaly Detection"
   ]
  },
  {
   "cell_type": "markdown",
   "metadata": {},
   "source": [
    "Anomalies often arise in columns dealing with time. Let's see if anomalies arise in this dataset."
   ]
  },
  {
   "cell_type": "code",
   "execution_count": 12,
   "metadata": {},
   "outputs": [
    {
     "data": {
      "text/plain": [
       "0    10+ years\n",
       "1     < 1 year\n",
       "2    10+ years\n",
       "Name: emp_length, dtype: object"
      ]
     },
     "execution_count": 12,
     "metadata": {},
     "output_type": "execute_result"
    }
   ],
   "source": [
    "df['emp_length'].head(3)"
   ]
  },
  {
   "cell_type": "markdown",
   "metadata": {},
   "source": [
    "**Fill missing values with 0, assuming the borrower has not worked for many years for the data to be recorded.** "
   ]
  },
  {
   "cell_type": "code",
   "execution_count": 13,
   "metadata": {},
   "outputs": [
    {
     "data": {
      "text/plain": [
       "Text(0.5,0,'Years worked')"
      ]
     },
     "execution_count": 13,
     "metadata": {},
     "output_type": "execute_result"
    },
    {
     "data": {
      "image/png": "[encoded data removed]",
      "text/plain": [
       "<matplotlib.figure.Figure at 0x211889a4f98>"
      ]
     },
     "metadata": {},
     "output_type": "display_data"
    }
   ],
   "source": [
    "df['emp_length'].fillna(value=0, inplace=True)\n",
    "\n",
    "df['emp_length'].replace(to_replace='[^0-9]+', value='', inplace=True, regex=True)\n",
    "\n",
    "df['emp_length'].value_counts().sort_values().plot(kind='bar', figsize=(18,8))\n",
    "plt.title('Number of Loans by Employment Years', fontsize=20)\n",
    "plt.ylabel('Number of loans', fontsize=15)\n",
    "plt.xticks(rotation=0)\n",
    "plt.xlabel('Years worked', fontsize=15)"
   ]
  },
  {
   "cell_type": "markdown",
   "metadata": {},
   "source": [
    "**No anomalies is detected. People who have worked more than 10 years are more likely to take a loan.**"
   ]
  },
  {
   "cell_type": "code",
   "execution_count": 14,
   "metadata": {},
   "outputs": [
    {
     "data": {
      "image/png": "[encoded data removed]",
      "text/plain": [
       "<matplotlib.figure.Figure at 0x2118122d630>"
      ]
     },
     "metadata": {},
     "output_type": "display_data"
    }
   ],
   "source": [
    "fig = plt.figure(figsize=(12,6))\n",
    "sns.violinplot(x=\"TARGET\",y=\"loan_amnt\",data=df, hue=\"pymnt_plan\", split=True)\n",
    "plt.title(\"Payment plan - Loan Amount\", fontsize=20)\n",
    "plt.xlabel(\"TARGET\", fontsize=15)\n",
    "plt.ylabel(\"Loan Amount\", fontsize=15);"
   ]
  },
  {
   "cell_type": "markdown",
   "metadata": {},
   "source": [
    "**Defaulted loans do not have a payment plan**"
   ]
  },
  {
   "cell_type": "markdown",
   "metadata": {},
   "source": [
    "### Exploratory Data Analysis"
   ]
  },
  {
   "cell_type": "markdown",
   "metadata": {},
   "source": [
    "Remove columns with more than 70% missing data. "
   ]
  },
  {
   "cell_type": "code",
   "execution_count": 15,
   "metadata": {},
   "outputs": [],
   "source": [
    "col_to_drop = [i for i in df.count() < 887379 * 0.3]\n",
    "df.drop(df.columns[col_to_drop], axis=1, inplace=True)"
   ]
  },
  {
   "cell_type": "markdown",
   "metadata": {},
   "source": [
    "Display the most correlated features to the target"
   ]
  },
  {
   "cell_type": "code",
   "execution_count": 16,
   "metadata": {},
   "outputs": [
    {
     "name": "stdout",
     "output_type": "stream",
     "text": [
      "Most positive correlations:\n",
      " dti                   0.003912\n",
      "revol_util            0.004831\n",
      "inq_last_6mths        0.006042\n",
      "total_rec_int         0.010490\n",
      "total_rec_late_fee    0.011758\n",
      "out_prncp             0.013938\n",
      "out_prncp_inv         0.013944\n",
      "int_rate              0.024485\n",
      "TARGET                1.000000\n",
      "policy_code                NaN\n",
      "Name: TARGET, dtype: float64\n",
      "Most negative correlations:\n",
      " last_pymnt_amnt    -0.013132\n",
      "total_rec_prncp    -0.012085\n",
      "id                 -0.010041\n",
      "member_id          -0.009836\n",
      "total_pymnt        -0.007590\n",
      "total_pymnt_inv    -0.007448\n",
      "tot_cur_bal        -0.007036\n",
      "annual_inc         -0.004743\n",
      "total_rev_hi_lim   -0.004729\n",
      "recoveries         -0.004157\n",
      "Name: TARGET, dtype: float64\n"
     ]
    }
   ],
   "source": [
    "correlations = df.corr()['TARGET'].sort_values()\n",
    "\n",
    "print('Most positive correlations:\\n', correlations.tail(10))\n",
    "print('Most negative correlations:\\n', correlations.head(10))"
   ]
  },
  {
   "cell_type": "markdown",
   "metadata": {},
   "source": [
    "**The interest rate and the outstanding principle have the highest positive correlation with the loan status. This makes sense, since a higher interest rate makes the loan harder to pay. Likewise, a greater outstanding principle can hint for difficulties in repaying the loan. On the other hand, the recoveries are negatively correlated, because the smaller they are, the more likely the loan is to be paid. Likewise, the larger the last payment amout, the more likely the loan will be reimbursed.**"
   ]
  },
  {
   "cell_type": "markdown",
   "metadata": {},
   "source": [
    "#### Correlation to interest rate"
   ]
  },
  {
   "cell_type": "code",
   "execution_count": 17,
   "metadata": {},
   "outputs": [
    {
     "data": {
      "text/plain": [
       "total_rev_hi_lim             -0.166119\n",
       "id                           -0.142963\n",
       "member_id                    -0.142205\n",
       "tot_cur_bal                  -0.091408\n",
       "annual_inc                   -0.072786\n",
       "total_acc                    -0.038618\n",
       "revol_bal                    -0.035708\n",
       "mths_since_last_delinq       -0.030033\n",
       "open_acc                     -0.010381\n",
       "tot_coll_amt                  0.001130\n",
       "collections_12_mths_ex_med    0.013336\n",
       "TARGET                        0.024485\n",
       "acc_now_delinq                0.026478\n",
       "out_prncp_inv                 0.042529\n",
       "out_prncp                     0.042671\n",
       "pub_rec                       0.052156\n",
       "total_rec_prncp               0.054975\n",
       "delinq_2yrs                   0.055178\n",
       "total_rec_late_fee            0.057150\n",
       "collection_recovery_fee       0.070867\n",
       "dti                           0.079903\n",
       "last_pymnt_amnt               0.101179\n",
       "recoveries                    0.106840\n",
       "installment                   0.133075\n",
       "loan_amnt                     0.145023\n",
       "funded_amnt                   0.145160\n",
       "funded_amnt_inv               0.145205\n",
       "total_pymnt                   0.170506\n",
       "total_pymnt_inv               0.171479\n",
       "inq_last_6mths                0.227650\n",
       "revol_util                    0.269139\n",
       "total_rec_int                 0.445679\n",
       "int_rate                      1.000000\n",
       "policy_code                        NaN\n",
       "Name: int_rate, dtype: float64"
      ]
     },
     "execution_count": 17,
     "metadata": {},
     "output_type": "execute_result"
    }
   ],
   "source": [
    "df.corr()['int_rate'].sort_values()"
   ]
  },
  {
   "cell_type": "markdown",
   "metadata": {},
   "source": [
    "\n",
    "\n",
    "With no surprise, the total interest received highly correlates with the interest rate. No interesting insight is offered here.\n"
   ]
  },
  {
   "cell_type": "code",
   "execution_count": 18,
   "metadata": {},
   "outputs": [
    {
     "data": {
      "image/png": "[encoded data removed]",
      "text/plain": [
       "<matplotlib.figure.Figure at 0x21181348c18>"
      ]
     },
     "metadata": {},
     "output_type": "display_data"
    }
   ],
   "source": [
    "fig = plt.figure(figsize=(22,6))\n",
    "sns.kdeplot(df.loc[df['TARGET'] == 1, 'int_rate'], label = 'target = 1')\n",
    "sns.kdeplot(df.loc[df['TARGET'] == 0, 'int_rate'], label = 'target = 0');\n",
    "plt.xlabel('Interest Rate (%)',fontsize=15)\n",
    "plt.ylabel('Density',fontsize=15)\n",
    "plt.title('Distribution of Interest Rate',fontsize=20);"
   ]
  },
  {
   "cell_type": "markdown",
   "metadata": {},
   "source": [
    "**The interest rate seems to be quite normaly distributed for both defaulted and good loans**\n"
   ]
  },
  {
   "cell_type": "markdown",
   "metadata": {},
   "source": [
    "#### Explore term and loan amount"
   ]
  },
  {
   "cell_type": "code",
   "execution_count": 19,
   "metadata": {},
   "outputs": [
    {
     "data": {
      "image/png": "[encoded data removed]",
      "text/plain": [
       "<matplotlib.figure.Figure at 0x21181388dd8>"
      ]
     },
     "metadata": {},
     "output_type": "display_data"
    }
   ],
   "source": [
    "fig = plt.figure(figsize=(12,6))\n",
    "sns.violinplot(x=\"TARGET\",y=\"loan_amnt\",data=df, hue=\"term\", split=True,color='yellow')\n",
    "plt.title(\"Term - Loan Amount\", fontsize=20)\n",
    "plt.xlabel(\"TARGET\", fontsize=15)\n",
    "plt.ylabel(\"Loan Amount\", fontsize=15);"
   ]
  },
  {
   "cell_type": "markdown",
   "metadata": {},
   "source": [
    "**The greater the loan amout, the more likely the term is to be of 60 months**\n"
   ]
  },
  {
   "cell_type": "markdown",
   "metadata": {},
   "source": [
    "#### Explore application type and loan amount"
   ]
  },
  {
   "cell_type": "code",
   "execution_count": 20,
   "metadata": {},
   "outputs": [
    {
     "data": {
      "image/png": "[encoded data removed]",
      "text/plain": [
       "<matplotlib.figure.Figure at 0x211813ea550>"
      ]
     },
     "metadata": {},
     "output_type": "display_data"
    }
   ],
   "source": [
    "fig = plt.figure(figsize=(12,6))\n",
    "sns.violinplot(x=\"TARGET\",y=\"loan_amnt\",data=df, hue=\"application_type\", split=True,color='green')\n",
    "plt.title(\"Application Type - Loan Amount\", fontsize=20)\n",
    "plt.xlabel(\"TARGET\", fontsize=15)\n",
    "plt.ylabel(\"Loan Amount\", fontsize=15);"
   ]
  },
  {
   "cell_type": "code",
   "execution_count": 21,
   "metadata": {},
   "outputs": [
    {
     "data": {
      "text/plain": [
       "INDIVIDUAL    886868\n",
       "JOINT            511\n",
       "Name: application_type, dtype: int64"
      ]
     },
     "execution_count": 21,
     "metadata": {},
     "output_type": "execute_result"
    }
   ],
   "source": [
    "df['application_type'].value_counts()"
   ]
  },
  {
   "cell_type": "markdown",
   "metadata": {},
   "source": [
    "**Interestingly, defaulted loans are from individual people only.Unfortunately, the number of joint applications is not significant enough to conclude that all joint applications are reimbursed**\n"
   ]
  },
  {
   "cell_type": "markdown",
   "metadata": {},
   "source": [
    "#### Credit grade and interest rate"
   ]
  },
  {
   "cell_type": "code",
   "execution_count": 22,
   "metadata": {},
   "outputs": [
    {
     "data": {
      "image/png": "[encoded data removed]",
      "text/plain": [
       "<matplotlib.figure.Figure at 0x2118135e860>"
      ]
     },
     "metadata": {},
     "output_type": "display_data"
    }
   ],
   "source": [
    "fig = plt.figure(figsize=(18,8))\n",
    "sns.violinplot(x=\"TARGET\",y=\"int_rate\",data=df, hue=\"grade\")\n",
    "plt.title(\"Grade - Interest Rate\", fontsize=20)\n",
    "plt.xlabel(\"TARGET\", fontsize=15)\n",
    "plt.ylabel(\"Interest Rate\", fontsize=15);"
   ]
  },
  {
   "cell_type": "markdown",
   "metadata": {},
   "source": [
    "**For both paid and defaulted loans, there is a similar distribution of credit score.**\n"
   ]
  },
  {
   "cell_type": "markdown",
   "metadata": {},
   "source": [
    "#### Loan status and location"
   ]
  },
  {
   "cell_type": "code",
   "execution_count": 23,
   "metadata": {},
   "outputs": [
    {
     "data": {
      "image/png": "[encoded data removed]",
      "text/plain": [
       "<matplotlib.figure.Figure at 0x21181407dd8>"
      ]
     },
     "metadata": {},
     "output_type": "display_data"
    }
   ],
   "source": [
    "fig = plt.figure(figsize=(18,10))\n",
    "df[df['TARGET']==1].groupby('addr_state')['TARGET'].count().sort_values().plot(kind='bar')\n",
    "plt.xlabel('State',fontsize=15)\n",
    "plt.ylabel('Number of loans',fontsize=15)\n",
    "plt.xticks(rotation=0)\n",
    "plt.title('Number of defaulted loans per state',fontsize=20);"
   ]
  },
  {
   "cell_type": "code",
   "execution_count": 24,
   "metadata": {},
   "outputs": [
    {
     "data": {
      "image/png": "[encoded data removed]",
      "text/plain": [
       "<matplotlib.figure.Figure at 0x211814f2588>"
      ]
     },
     "metadata": {},
     "output_type": "display_data"
    }
   ],
   "source": [
    "fig = plt.figure(figsize=(18,10))\n",
    "df[df['TARGET']==0].groupby('addr_state')['TARGET'].count().sort_values().plot(kind='bar')\n",
    "plt.xlabel('State')\n",
    "plt.ylabel('Number of loans')\n",
    "plt.xticks(rotation=0)\n",
    "plt.title('Number of not-defaulted loans per state');"
   ]
  },
  {
   "cell_type": "markdown",
   "metadata": {},
   "source": [
    "**From both graphs, the location is not a good indicator for the status of the loan, since states with a high number of loans will have also a higher number of defaulted loans\n",
    "**"
   ]
  },
  {
   "cell_type": "markdown",
   "metadata": {},
   "source": [
    "#### Do members take multiple loans?"
   ]
  },
  {
   "cell_type": "code",
   "execution_count": 25,
   "metadata": {},
   "outputs": [
    {
     "data": {
      "text/plain": [
       "58732538    1\n",
       "353782      1\n",
       "Name: member_id, dtype: int64"
      ]
     },
     "execution_count": 25,
     "metadata": {},
     "output_type": "execute_result"
    }
   ],
   "source": [
    "df['member_id'].value_counts().head(2)"
   ]
  },
  {
   "cell_type": "markdown",
   "metadata": {},
   "source": [
    "It seems that no one has taken 2 loans on the Lending Club. Maybe it's a rule, but I didn't find any info on the website."
   ]
  },
  {
   "cell_type": "markdown",
   "metadata": {},
   "source": [
    "## Data cleaning"
   ]
  },
  {
   "cell_type": "code",
   "execution_count": 26,
   "metadata": {},
   "outputs": [
    {
     "name": "stdout",
     "output_type": "stream",
     "text": [
      "<class 'pandas.core.frame.DataFrame'>\n",
      "RangeIndex: 887379 entries, 0 to 887378\n",
      "Data columns (total 54 columns):\n",
      "id                            887379 non-null int64\n",
      "member_id                     887379 non-null int64\n",
      "loan_amnt                     887379 non-null float64\n",
      "funded_amnt                   887379 non-null float64\n",
      "funded_amnt_inv               887379 non-null float64\n",
      "term                          887379 non-null object\n",
      "int_rate                      887379 non-null float64\n",
      "installment                   887379 non-null float64\n",
      "grade                         887379 non-null object\n",
      "sub_grade                     887379 non-null object\n",
      "emp_title                     835917 non-null object\n",
      "emp_length                    887379 non-null object\n",
      "home_ownership                887379 non-null object\n",
      "annual_inc                    887375 non-null float64\n",
      "verification_status           887379 non-null object\n",
      "issue_d                       887379 non-null object\n",
      "pymnt_plan                    887379 non-null object\n",
      "url                           887379 non-null object\n",
      "purpose                       887379 non-null object\n",
      "title                         887227 non-null object\n",
      "zip_code                      887379 non-null object\n",
      "addr_state                    887379 non-null object\n",
      "dti                           887379 non-null float64\n",
      "delinq_2yrs                   887350 non-null float64\n",
      "earliest_cr_line              887350 non-null object\n",
      "inq_last_6mths                887350 non-null float64\n",
      "mths_since_last_delinq        433067 non-null float64\n",
      "open_acc                      887350 non-null float64\n",
      "pub_rec                       887350 non-null float64\n",
      "revol_bal                     887379 non-null float64\n",
      "revol_util                    886877 non-null float64\n",
      "total_acc                     887350 non-null float64\n",
      "initial_list_status           887379 non-null object\n",
      "out_prncp                     887379 non-null float64\n",
      "out_prncp_inv                 887379 non-null float64\n",
      "total_pymnt                   887379 non-null float64\n",
      "total_pymnt_inv               887379 non-null float64\n",
      "total_rec_prncp               887379 non-null float64\n",
      "total_rec_int                 887379 non-null float64\n",
      "total_rec_late_fee            887379 non-null float64\n",
      "recoveries                    887379 non-null float64\n",
      "collection_recovery_fee       887379 non-null float64\n",
      "last_pymnt_d                  869720 non-null object\n",
      "last_pymnt_amnt               887379 non-null float64\n",
      "next_pymnt_d                  634408 non-null object\n",
      "last_credit_pull_d            887326 non-null object\n",
      "collections_12_mths_ex_med    887234 non-null float64\n",
      "policy_code                   887379 non-null float64\n",
      "application_type              887379 non-null object\n",
      "acc_now_delinq                887350 non-null float64\n",
      "tot_coll_amt                  817103 non-null float64\n",
      "tot_cur_bal                   817103 non-null float64\n",
      "total_rev_hi_lim              817103 non-null float64\n",
      "TARGET                        887379 non-null int64\n",
      "dtypes: float64(31), int64(3), object(20)\n",
      "memory usage: 365.6+ MB\n"
     ]
    }
   ],
   "source": [
    "df.info()"
   ]
  },
  {
   "cell_type": "code",
   "execution_count": 27,
   "metadata": {},
   "outputs": [],
   "source": [
    "df.drop(['id','member_id','emp_title','title','zip_code','url'],axis=1,inplace=True)"
   ]
  },
  {
   "cell_type": "code",
   "execution_count": 28,
   "metadata": {},
   "outputs": [
    {
     "data": {
      "text/plain": [
       "(887379, 48)"
      ]
     },
     "execution_count": 28,
     "metadata": {},
     "output_type": "execute_result"
    }
   ],
   "source": [
    "df.shape"
   ]
  },
  {
   "cell_type": "markdown",
   "metadata": {},
   "source": [
    "We need to turn the object type to float or int in order to be used for modelling. Turn date object columns to integer, and fill the missing data with the mode"
   ]
  },
  {
   "cell_type": "code",
   "execution_count": 29,
   "metadata": {},
   "outputs": [],
   "source": [
    "df['issue_d']= pd.to_datetime(df['issue_d']).apply(lambda x: int(x.strftime('%Y')))\n",
    "df['last_pymnt_d']= pd.to_datetime(df['last_pymnt_d'].fillna('2016-01-01')).apply(lambda x: int(x.strftime('%m')))\n",
    "df['last_credit_pull_d']= pd.to_datetime(df['last_credit_pull_d'].fillna(\"2016-01-01\")).apply(lambda x: int(x.strftime('%m')))\n",
    "df['earliest_cr_line']= pd.to_datetime(df['earliest_cr_line'].fillna('2001-08-01')).apply(lambda x: int(x.strftime('%m')))\n",
    "df['next_pymnt_d'] = pd.to_datetime(df['next_pymnt_d'].fillna(value = '2016-02-01')).apply(lambda x:int(x.strftime(\"%Y\")))"
   ]
  },
  {
   "cell_type": "markdown",
   "metadata": {},
   "source": [
    "Label encoding and one-hot encoding"
   ]
  },
  {
   "cell_type": "code",
   "execution_count": 30,
   "metadata": {},
   "outputs": [],
   "source": [
    "from sklearn import preprocessing"
   ]
  },
  {
   "cell_type": "code",
   "execution_count": 31,
   "metadata": {},
   "outputs": [
    {
     "name": "stdout",
     "output_type": "stream",
     "text": [
      "term\n",
      "pymnt_plan\n",
      "initial_list_status\n",
      "application_type\n",
      "4 columns were label encoded.\n"
     ]
    }
   ],
   "source": [
    "count = 0\n",
    "\n",
    "for col in df:\n",
    "    if df[col].dtype == 'object':\n",
    "        if len(list(df[col].unique())) <= 2:     \n",
    "            le = preprocessing.LabelEncoder()\n",
    "            df[col] = le.fit_transform(df[col])\n",
    "            count += 1\n",
    "            print (col)\n",
    "            \n",
    "print('%d columns were label encoded.' % count)"
   ]
  },
  {
   "cell_type": "code",
   "execution_count": 32,
   "metadata": {},
   "outputs": [
    {
     "name": "stdout",
     "output_type": "stream",
     "text": [
      "(887379, 168)\n"
     ]
    }
   ],
   "source": [
    "df = pd.get_dummies(df)\n",
    "print(df.shape)"
   ]
  },
  {
   "cell_type": "markdown",
   "metadata": {},
   "source": [
    "Fill missing values with median as data is continuous"
   ]
  },
  {
   "cell_type": "code",
   "execution_count": 33,
   "metadata": {},
   "outputs": [],
   "source": [
    "df['mths_since_last_delinq'] = df['mths_since_last_delinq'].fillna(df['mths_since_last_delinq'].median())"
   ]
  },
  {
   "cell_type": "code",
   "execution_count": 34,
   "metadata": {},
   "outputs": [
    {
     "data": {
      "text/plain": [
       "0    815522\n",
       "1      1200\n",
       "Name: TARGET, dtype: int64"
      ]
     },
     "execution_count": 34,
     "metadata": {},
     "output_type": "execute_result"
    }
   ],
   "source": [
    "df.dropna(inplace=True)\n",
    "\n",
    "df['TARGET'].value_counts()"
   ]
  },
  {
   "cell_type": "markdown",
   "metadata": {},
   "source": [
    "## Modelling"
   ]
  },
  {
   "cell_type": "markdown",
   "metadata": {},
   "source": [
    "### Logistic Regression - Baseline"
   ]
  },
  {
   "cell_type": "code",
   "execution_count": 35,
   "metadata": {},
   "outputs": [
    {
     "name": "stderr",
     "output_type": "stream",
     "text": [
      "C:\\Users\\marco\\Anaconda3\\lib\\site-packages\\sklearn\\ensemble\\weight_boosting.py:29: DeprecationWarning: numpy.core.umath_tests is an internal NumPy module and should not be imported. It will be removed in a future NumPy release.\n",
      "  from numpy.core.umath_tests import inner1d\n"
     ]
    }
   ],
   "source": [
    "from sklearn.ensemble import RandomForestClassifier\n",
    "from sklearn.model_selection import cross_val_score, cross_val_predict\n",
    "from sklearn.metrics import accuracy_score, classification_report, confusion_matrix"
   ]
  },
  {
   "cell_type": "code",
   "execution_count": 36,
   "metadata": {},
   "outputs": [],
   "source": [
    "def print_score(clf, X_train, y_train, X_test, y_test, train=True):\n",
    "    if train:\n",
    "        print(\"Train Result:\\n\")\n",
    "        print(\"accuracy score: {0:.4f}\\n\".format(accuracy_score(y_train, clf.predict(X_train))))\n",
    "        print(\"Classification Report: \\n {}\\n\".format(classification_report(y_train, clf.predict(X_train))))\n",
    "        print(\"Confusion Matrix: \\n {}\\n\".format(confusion_matrix(y_train, clf.predict(X_train))))\n",
    "\n",
    "        res = cross_val_score(clf, X_train, y_train, cv=10, scoring='accuracy')\n",
    "        print(\"Average Accuracy: \\t {0:.4f}\".format(np.mean(res)))\n",
    "        print(\"Accuracy SD: \\t\\t {0:.4f}\".format(np.std(res)))\n",
    "        \n",
    "    elif train==False:\n",
    "        print(\"Test Result:\\n\")        \n",
    "        print(\"accuracy score: {0:.4f}\\n\".format(accuracy_score(y_test, clf.predict(X_test))))\n",
    "        print(\"Classification Report: \\n {}\\n\".format(classification_report(y_test, clf.predict(X_test))))\n",
    "        print(\"Confusion Matrix: \\n {}\\n\".format(confusion_matrix(y_test, clf.predict(X_test)))) "
   ]
  },
  {
   "cell_type": "markdown",
   "metadata": {},
   "source": [
    "Train/test split"
   ]
  },
  {
   "cell_type": "code",
   "execution_count": 37,
   "metadata": {},
   "outputs": [],
   "source": [
    "from sklearn.model_selection import train_test_split"
   ]
  },
  {
   "cell_type": "code",
   "execution_count": 38,
   "metadata": {},
   "outputs": [],
   "source": [
    "X_train, X_test, y_train, y_test = train_test_split(df.drop('TARGET',axis=1),df['TARGET'],test_size=0.15,random_state=101)"
   ]
  },
  {
   "cell_type": "markdown",
   "metadata": {},
   "source": [
    "Free memory"
   ]
  },
  {
   "cell_type": "code",
   "execution_count": 39,
   "metadata": {},
   "outputs": [
    {
     "data": {
      "text/plain": [
       "111"
      ]
     },
     "execution_count": 39,
     "metadata": {},
     "output_type": "execute_result"
    }
   ],
   "source": [
    "del og_df\n",
    "gc.collect()"
   ]
  },
  {
   "cell_type": "markdown",
   "metadata": {},
   "source": [
    "Standardize features"
   ]
  },
  {
   "cell_type": "code",
   "execution_count": 40,
   "metadata": {},
   "outputs": [],
   "source": [
    "from sklearn.preprocessing import StandardScaler"
   ]
  },
  {
   "cell_type": "code",
   "execution_count": 41,
   "metadata": {},
   "outputs": [],
   "source": [
    "sc = StandardScaler()\n",
    "X_train = sc.fit_transform(X_train)\n",
    "X_test=sc.transform(X_test)"
   ]
  },
  {
   "cell_type": "markdown",
   "metadata": {},
   "source": [
    "Oversampling only the training set using Synthetic Minority Oversampling Technique"
   ]
  },
  {
   "cell_type": "code",
   "execution_count": 42,
   "metadata": {},
   "outputs": [],
   "source": [
    "from imblearn.over_sampling import SMOTE"
   ]
  },
  {
   "cell_type": "code",
   "execution_count": 43,
   "metadata": {},
   "outputs": [
    {
     "name": "stderr",
     "output_type": "stream",
     "text": [
      "C:\\Users\\marco\\Anaconda3\\lib\\site-packages\\sklearn\\utils\\deprecation.py:77: DeprecationWarning: Function _ratio_float is deprecated; Use a float for 'ratio' is deprecated from version 0.2. The support will be removed in 0.4. Use a dict, str, or a callable instead.\n",
      "  warnings.warn(msg, category=DeprecationWarning)\n"
     ]
    }
   ],
   "source": [
    "sm = SMOTE(random_state=12, ratio = 1.0)\n",
    "x_train_r, y_train_r = sm.fit_sample(X_train, y_train)"
   ]
  },
  {
   "cell_type": "markdown",
   "metadata": {},
   "source": [
    "Logistic regression"
   ]
  },
  {
   "cell_type": "code",
   "execution_count": 44,
   "metadata": {},
   "outputs": [
    {
     "data": {
      "text/plain": [
       "LogisticRegression(C=0.0001, class_weight=None, dual=False,\n",
       "          fit_intercept=True, intercept_scaling=1, max_iter=100,\n",
       "          multi_class='ovr', n_jobs=1, penalty='l2', random_state=21,\n",
       "          solver='liblinear', tol=0.0001, verbose=0, warm_start=False)"
      ]
     },
     "execution_count": 44,
     "metadata": {},
     "output_type": "execute_result"
    }
   ],
   "source": [
    "from sklearn.linear_model import LogisticRegression\n",
    "\n",
    "log_reg = LogisticRegression(C = 0.0001,random_state=21)\n",
    "\n",
    "log_reg.fit(x_train_r, y_train_r)"
   ]
  },
  {
   "cell_type": "code",
   "execution_count": 45,
   "metadata": {},
   "outputs": [
    {
     "name": "stdout",
     "output_type": "stream",
     "text": [
      "Test Result:\n",
      "\n",
      "accuracy score: 0.7933\n",
      "\n",
      "Classification Report: \n",
      "              precision    recall  f1-score   support\n",
      "\n",
      "          0       1.00      0.79      0.88    122332\n",
      "          1       0.01      0.86      0.01       177\n",
      "\n",
      "avg / total       1.00      0.79      0.88    122509\n",
      "\n",
      "\n",
      "Confusion Matrix: \n",
      " [[97036 25296]\n",
      " [   25   152]]\n",
      "\n"
     ]
    }
   ],
   "source": [
    "print_score(log_reg, x_train_r, y_train_r, X_test, y_test, train=False)"
   ]
  },
  {
   "cell_type": "markdown",
   "metadata": {},
   "source": [
    "Precision is so bad!!!!!"
   ]
  },
  {
   "cell_type": "markdown",
   "metadata": {},
   "source": [
    "### Random Forest - Avoid overfitting"
   ]
  },
  {
   "cell_type": "code",
   "execution_count": 46,
   "metadata": {},
   "outputs": [],
   "source": [
    "from sklearn.ensemble import RandomForestClassifier"
   ]
  },
  {
   "cell_type": "code",
   "execution_count": 47,
   "metadata": {},
   "outputs": [
    {
     "data": {
      "text/plain": [
       "RandomForestClassifier(bootstrap=True, class_weight=None, criterion='gini',\n",
       "            max_depth=None, max_features='auto', max_leaf_nodes=None,\n",
       "            min_impurity_decrease=0.0, min_impurity_split=None,\n",
       "            min_samples_leaf=1, min_samples_split=2,\n",
       "            min_weight_fraction_leaf=0.0, n_estimators=40, n_jobs=1,\n",
       "            oob_score=False, random_state=21, verbose=0, warm_start=False)"
      ]
     },
     "execution_count": 47,
     "metadata": {},
     "output_type": "execute_result"
    }
   ],
   "source": [
    "clf_rf = RandomForestClassifier(n_estimators=40, random_state=21)\n",
    "\n",
    "clf_rf.fit(x_train_r, y_train_r)"
   ]
  },
  {
   "cell_type": "code",
   "execution_count": 48,
   "metadata": {},
   "outputs": [
    {
     "name": "stdout",
     "output_type": "stream",
     "text": [
      "Test Result:\n",
      "\n",
      "accuracy score: 0.9986\n",
      "\n",
      "Classification Report: \n",
      "              precision    recall  f1-score   support\n",
      "\n",
      "          0       1.00      1.00      1.00    122332\n",
      "          1       1.00      0.06      0.11       177\n",
      "\n",
      "avg / total       1.00      1.00      1.00    122509\n",
      "\n",
      "\n",
      "Confusion Matrix: \n",
      " [[122332      0]\n",
      " [   167     10]]\n",
      "\n"
     ]
    }
   ],
   "source": [
    "print_score(clf_rf, x_train_r, y_train_r, X_test, y_test, train=False)"
   ]
  },
  {
   "cell_type": "markdown",
   "metadata": {},
   "source": [
    "Very low recall"
   ]
  },
  {
   "cell_type": "markdown",
   "metadata": {},
   "source": [
    "### Boosting - Random Forest"
   ]
  },
  {
   "cell_type": "code",
   "execution_count": 49,
   "metadata": {},
   "outputs": [],
   "source": [
    "from sklearn.metrics import roc_auc_score, roc_curve\n",
    "from sklearn.model_selection import KFold, StratifiedKFold\n",
    "from lightgbm import LGBMClassifier"
   ]
  },
  {
   "cell_type": "code",
   "execution_count": 50,
   "metadata": {},
   "outputs": [],
   "source": [
    "def kfold_lightgbm(train_df, num_folds, stratified = False):\n",
    "    print(\"Starting LightGBM. Train shape: {}\".format(train_df.shape))\n",
    "    \n",
    "    # Cross validation model\n",
    "    if stratified:\n",
    "        folds = StratifiedKFold(n_splits= num_folds, shuffle=True, random_state=47)\n",
    "    else:\n",
    "        folds = KFold(n_splits= num_folds, shuffle=True, random_state=47)\n",
    "\n",
    "    oof_preds = np.zeros(train_df.shape[0])\n",
    "\n",
    "    feature_importance_df = pd.DataFrame()\n",
    "    feats = [f for f in train_df.columns if f not in ['TARGET']]\n",
    "    \n",
    "    # Splitting the training set into folds for Cross Validation\n",
    "    for n_fold, (train_idx, valid_idx) in enumerate(folds.split(train_df[feats], train_df['TARGET'])):\n",
    "        train_x, train_y = train_df[feats].iloc[train_idx], train_df['TARGET'].iloc[train_idx]\n",
    "        valid_x, valid_y = train_df[feats].iloc[valid_idx], train_df['TARGET'].iloc[valid_idx]\n",
    "\n",
    "        # LightGBM parameters found by Bayesian optimization\n",
    "        clf = LGBMClassifier(\n",
    "            nthread=4,\n",
    "            n_estimators=10000,\n",
    "            learning_rate=0.02,\n",
    "            num_leaves=32,\n",
    "            colsample_bytree=0.9497036,\n",
    "            subsample=0.8715623,\n",
    "            max_depth=8,\n",
    "            reg_alpha=0.04,\n",
    "            reg_lambda=0.073,\n",
    "            min_split_gain=0.0222415,\n",
    "            min_child_weight=40,\n",
    "            silent=-1,\n",
    "            verbose=-1,\n",
    "            )\n",
    "\n",
    "        # Fitting the model and evaluating by AUC\n",
    "        clf.fit(train_x, train_y, eval_set=[(train_x, train_y), (valid_x, valid_y)], \n",
    "            eval_metric= 'auc', verbose= 1000, early_stopping_rounds= 200)\n",
    "        print_score(clf, train_x, train_y, valid_x, valid_y, train=False)\n",
    "        # Dataframe holding the different features and their importance\n",
    "        fold_importance_df = pd.DataFrame()\n",
    "        fold_importance_df[\"feature\"] = feats\n",
    "        fold_importance_df[\"importance\"] = clf.feature_importances_\n",
    "        fold_importance_df[\"fold\"] = n_fold + 1\n",
    "        feature_importance_df = pd.concat([feature_importance_df, fold_importance_df], axis=0)\n",
    "        \n",
    "        # Freeing up memory\n",
    "        del clf, train_x, train_y, valid_x, valid_y\n",
    "        gc.collect()\n",
    "\n",
    "    display_importances(feature_importance_df)\n",
    "    return feature_importance_df"
   ]
  },
  {
   "cell_type": "code",
   "execution_count": 51,
   "metadata": {},
   "outputs": [],
   "source": [
    "def display_importances(feature_importance_df_):\n",
    "    cols = feature_importance_df_[[\"feature\", \"importance\"]].groupby(\"feature\").mean().sort_values(by=\"importance\", ascending=False)[:40].index\n",
    "    best_features = feature_importance_df_.loc[feature_importance_df_.feature.isin(cols)]\n",
    "    plt.figure(figsize=(15, 12))\n",
    "    sns.barplot(x=\"importance\", y=\"feature\", data=best_features.sort_values(by=\"importance\", ascending=False))\n",
    "    plt.title('LightGBM Features (avg over folds)')\n",
    "    plt.tight_layout()\n",
    "    plt.savefig('lgbm_importances.png')"
   ]
  },
  {
   "cell_type": "code",
   "execution_count": 52,
   "metadata": {},
   "outputs": [
    {
     "name": "stdout",
     "output_type": "stream",
     "text": [
      "Starting LightGBM. Train shape: (816722, 168)\n",
      "Training until validation scores don't improve for 200 rounds.\n",
      "Early stopping, best iteration is:\n",
      "[88]\ttraining's binary_logloss: 0.00182964\ttraining's auc: 0.995352\tvalid_1's binary_logloss: 0.00185305\tvalid_1's auc: 0.994797\n",
      "Test Result:\n",
      "\n"
     ]
    },
    {
     "name": "stderr",
     "output_type": "stream",
     "text": [
      "C:\\Users\\marco\\Anaconda3\\lib\\site-packages\\sklearn\\preprocessing\\label.py:151: DeprecationWarning: The truth value of an empty array is ambiguous. Returning False, but in future this will result in an error. Use `array.size > 0` to check that an array is not empty.\n",
      "  if diff:\n"
     ]
    },
    {
     "name": "stdout",
     "output_type": "stream",
     "text": [
      "accuracy score: 0.9997\n",
      "\n"
     ]
    },
    {
     "name": "stderr",
     "output_type": "stream",
     "text": [
      "C:\\Users\\marco\\Anaconda3\\lib\\site-packages\\sklearn\\preprocessing\\label.py:151: DeprecationWarning: The truth value of an empty array is ambiguous. Returning False, but in future this will result in an error. Use `array.size > 0` to check that an array is not empty.\n",
      "  if diff:\n"
     ]
    },
    {
     "name": "stdout",
     "output_type": "stream",
     "text": [
      "Classification Report: \n",
      "              precision    recall  f1-score   support\n",
      "\n",
      "          0       1.00      1.00      1.00    271831\n",
      "          1       0.98      0.82      0.90       410\n",
      "\n",
      "avg / total       1.00      1.00      1.00    272241\n",
      "\n",
      "\n"
     ]
    },
    {
     "name": "stderr",
     "output_type": "stream",
     "text": [
      "C:\\Users\\marco\\Anaconda3\\lib\\site-packages\\sklearn\\preprocessing\\label.py:151: DeprecationWarning: The truth value of an empty array is ambiguous. Returning False, but in future this will result in an error. Use `array.size > 0` to check that an array is not empty.\n",
      "  if diff:\n"
     ]
    },
    {
     "name": "stdout",
     "output_type": "stream",
     "text": [
      "Confusion Matrix: \n",
      " [[271825      6]\n",
      " [    73    337]]\n",
      "\n",
      "Training until validation scores don't improve for 200 rounds.\n",
      "Early stopping, best iteration is:\n",
      "[104]\ttraining's binary_logloss: 0.00159339\ttraining's auc: 0.996372\tvalid_1's binary_logloss: 0.00169487\tvalid_1's auc: 0.993876\n",
      "Test Result:\n",
      "\n"
     ]
    },
    {
     "name": "stderr",
     "output_type": "stream",
     "text": [
      "C:\\Users\\marco\\Anaconda3\\lib\\site-packages\\sklearn\\preprocessing\\label.py:151: DeprecationWarning: The truth value of an empty array is ambiguous. Returning False, but in future this will result in an error. Use `array.size > 0` to check that an array is not empty.\n",
      "  if diff:\n"
     ]
    },
    {
     "name": "stdout",
     "output_type": "stream",
     "text": [
      "accuracy score: 0.9997\n",
      "\n"
     ]
    },
    {
     "name": "stderr",
     "output_type": "stream",
     "text": [
      "C:\\Users\\marco\\Anaconda3\\lib\\site-packages\\sklearn\\preprocessing\\label.py:151: DeprecationWarning: The truth value of an empty array is ambiguous. Returning False, but in future this will result in an error. Use `array.size > 0` to check that an array is not empty.\n",
      "  if diff:\n"
     ]
    },
    {
     "name": "stdout",
     "output_type": "stream",
     "text": [
      "Classification Report: \n",
      "              precision    recall  f1-score   support\n",
      "\n",
      "          0       1.00      1.00      1.00    271853\n",
      "          1       0.97      0.81      0.88       388\n",
      "\n",
      "avg / total       1.00      1.00      1.00    272241\n",
      "\n",
      "\n"
     ]
    },
    {
     "name": "stderr",
     "output_type": "stream",
     "text": [
      "C:\\Users\\marco\\Anaconda3\\lib\\site-packages\\sklearn\\preprocessing\\label.py:151: DeprecationWarning: The truth value of an empty array is ambiguous. Returning False, but in future this will result in an error. Use `array.size > 0` to check that an array is not empty.\n",
      "  if diff:\n"
     ]
    },
    {
     "name": "stdout",
     "output_type": "stream",
     "text": [
      "Confusion Matrix: \n",
      " [[271844      9]\n",
      " [    74    314]]\n",
      "\n",
      "Training until validation scores don't improve for 200 rounds.\n",
      "Early stopping, best iteration is:\n",
      "[69]\ttraining's binary_logloss: 0.00215092\ttraining's auc: 0.994937\tvalid_1's binary_logloss: 0.00214\tvalid_1's auc: 0.996462\n",
      "Test Result:\n",
      "\n"
     ]
    },
    {
     "name": "stderr",
     "output_type": "stream",
     "text": [
      "C:\\Users\\marco\\Anaconda3\\lib\\site-packages\\sklearn\\preprocessing\\label.py:151: DeprecationWarning: The truth value of an empty array is ambiguous. Returning False, but in future this will result in an error. Use `array.size > 0` to check that an array is not empty.\n",
      "  if diff:\n"
     ]
    },
    {
     "name": "stdout",
     "output_type": "stream",
     "text": [
      "accuracy score: 0.9997\n",
      "\n"
     ]
    },
    {
     "name": "stderr",
     "output_type": "stream",
     "text": [
      "C:\\Users\\marco\\Anaconda3\\lib\\site-packages\\sklearn\\preprocessing\\label.py:151: DeprecationWarning: The truth value of an empty array is ambiguous. Returning False, but in future this will result in an error. Use `array.size > 0` to check that an array is not empty.\n",
      "  if diff:\n"
     ]
    },
    {
     "name": "stdout",
     "output_type": "stream",
     "text": [
      "Classification Report: \n",
      "              precision    recall  f1-score   support\n",
      "\n",
      "          0       1.00      1.00      1.00    271838\n",
      "          1       0.98      0.81      0.89       402\n",
      "\n",
      "avg / total       1.00      1.00      1.00    272240\n",
      "\n",
      "\n"
     ]
    },
    {
     "name": "stderr",
     "output_type": "stream",
     "text": [
      "C:\\Users\\marco\\Anaconda3\\lib\\site-packages\\sklearn\\preprocessing\\label.py:151: DeprecationWarning: The truth value of an empty array is ambiguous. Returning False, but in future this will result in an error. Use `array.size > 0` to check that an array is not empty.\n",
      "  if diff:\n"
     ]
    },
    {
     "name": "stdout",
     "output_type": "stream",
     "text": [
      "Confusion Matrix: \n",
      " [[271831      7]\n",
      " [    75    327]]\n",
      "\n"
     ]
    },
    {
     "data": {
      "image/png": "[encoded data removed]",
      "text/plain": [
       "<matplotlib.figure.Figure at 0x2118135ea20>"
      ]
     },
     "metadata": {},
     "output_type": "display_data"
    }
   ],
   "source": [
    "feat_importance = kfold_lightgbm(df, num_folds= 3, stratified= False)"
   ]
  },
  {
   "cell_type": "markdown",
   "metadata": {},
   "source": [
    "Good! High precision and high recall!"
   ]
  },
  {
   "cell_type": "code",
   "execution_count": null,
   "metadata": {},
   "outputs": [],
   "source": []
  }
 ],
 "metadata": {
  "kernelspec": {
   "display_name": "Python 3",
   "language": "python",
   "name": "python3"
  },
  "language_info": {
   "codemirror_mode": {
    "name": "ipython",
    "version": 3
   },
   "file_extension": ".py",
   "mimetype": "text/x-python",
   "name": "python",
   "nbconvert_exporter": "python",
   "pygments_lexer": "ipython3",
   "version": "3.6.4"
  }
 },
 "nbformat": 4,
 "nbformat_minor": 2
}
